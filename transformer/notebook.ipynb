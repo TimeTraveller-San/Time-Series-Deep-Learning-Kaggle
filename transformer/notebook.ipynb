{
 "cells": [
  {
   "cell_type": "markdown",
   "metadata": {
    "heading_collapsed": true
   },
   "source": [
    "# I am a big cheater\n",
    "# I am stealing code from here:\n",
    "https://github.com/SamLynnEvans/Transformer\n",
    "\n",
    "\n",
    "https://github.com/maxjcohen/transformer"
   ]
  },
  {
   "cell_type": "code",
   "execution_count": 1,
   "metadata": {
    "hidden": true
   },
   "outputs": [],
   "source": [
    "import warnings\n",
    "warnings.filterwarnings('ignore')\n",
    "import pandas as pd\n",
    "import numpy as np\n",
    "import matplotlib.pyplot as plt\n",
    "import seaborn as sns\n",
    "import os\n",
    "import copy\n",
    "from tqdm.notebook import tqdm\n",
    "from sklearn.preprocessing import OrdinalEncoder\n",
    "import random \n",
    "\n",
    "import gc\n",
    "import pickle\n",
    "import math\n",
    "import datetime\n",
    "from sklearn import preprocessing\n",
    "import matplotlib.pyplot as plt\n",
    "from sklearn.model_selection import train_test_split\n",
    "from scipy.sparse import csr_matrix\n",
    "from sklearn.metrics import mean_squared_error\n",
    "\n",
    "import time\n",
    "import tqdm\n",
    "import torch\n",
    "import torch.nn as nn\n",
    "import torch.nn.functional as F\n",
    "from torch.utils.data import TensorDataset, DataLoader,Dataset\n",
    "from tqdm import tqdm_notebook as tqdm\n",
    "\n",
    "device = torch.device('cuda')\n",
    "# device = torch.device('cpu')\n",
    "\n",
    "NUM_ITEMS = 30490\n",
    "DAYS_PRED = 28\n",
    "\n",
    "\n",
    "def seed_everything(seed=42):\n",
    "    random.seed(seed)\n",
    "    os.environ[\"PYTHONHASHSEED\"] = str(seed)\n",
    "    np.random.seed(seed)\n",
    "    torch.manual_seed(seed)\n",
    "    torch.cuda.manual_seed(seed)\n",
    "    torch.backends.cudnn.deterministic = True\n",
    "\n",
    "seed_everything()    "
   ]
  },
  {
   "cell_type": "markdown",
   "metadata": {
    "heading_collapsed": true
   },
   "source": [
    "# Make data"
   ]
  },
  {
   "cell_type": "code",
   "execution_count": null,
   "metadata": {
    "hidden": true
   },
   "outputs": [],
   "source": [
    "def reduce_mem_usage(df, verbose=True):\n",
    "    numerics = ['int16', 'int32', 'int64', 'float16', 'float32', 'float64']\n",
    "    start_mem = df.memory_usage().sum() / 1024**2    \n",
    "    for col in df.columns:\n",
    "        col_type = df[col].dtypes\n",
    "        if col_type in numerics:\n",
    "            c_min = df[col].min()\n",
    "            c_max = df[col].max()\n",
    "            if str(col_type)[:3] == 'int':\n",
    "                if c_min > np.iinfo(np.int8).min and c_max < np.iinfo(np.int8).max:\n",
    "                    df[col] = df[col].astype(np.int8)\n",
    "                elif c_min > np.iinfo(np.int16).min and c_max < np.iinfo(np.int16).max:\n",
    "                    df[col] = df[col].astype(np.int16)\n",
    "                elif c_min > np.iinfo(np.int32).min and c_max < np.iinfo(np.int32).max:\n",
    "                    df[col] = df[col].astype(np.int32)\n",
    "                elif c_min > np.iinfo(np.int64).min and c_max < np.iinfo(np.int64).max:\n",
    "                    df[col] = df[col].astype(np.int64)  \n",
    "            else:\n",
    "                if c_min > np.finfo(np.float16).min and c_max < np.finfo(np.float16).max:\n",
    "                    df[col] = df[col].astype(np.float16)\n",
    "                elif c_min > np.finfo(np.float32).min and c_max < np.finfo(np.float32).max:\n",
    "                    df[col] = df[col].astype(np.float32)\n",
    "                else:\n",
    "                    df[col] = df[col].astype(np.float64)    \n",
    "    end_mem = df.memory_usage().sum() / 1024**2\n",
    "    if verbose: print('Mem. usage decreased to {:5.2f} Mb ({:.1f}% reduction)'.format(end_mem, 100 * (start_mem - end_mem) / start_mem))\n",
    "    return df"
   ]
  },
  {
   "cell_type": "code",
   "execution_count": null,
   "metadata": {
    "hidden": true
   },
   "outputs": [],
   "source": [
    "path = \"../data\"\n",
    "calendar = pd.read_csv(os.path.join(path, \"calendar.csv\"))\n",
    "selling_prices = pd.read_csv(os.path.join(path, \"sell_prices.csv\"))\n",
    "sample_submission = pd.read_csv(os.path.join(path, \"sample_submission.csv\"))\n",
    "# sales = pd.read_csv(os.path.join(path, \"sales_train_validation.csv\"))\n",
    "sales = pd.read_csv(os.path.join(path, \"sales_train_evaluation.csv\")) #For final submission"
   ]
  },
  {
   "cell_type": "code",
   "execution_count": null,
   "metadata": {
    "hidden": true
   },
   "outputs": [],
   "source": [
    "def prep_calendar(df):\n",
    "    df = df.drop([\"date\", \"weekday\"], axis=1)\n",
    "    df = df.assign(d = df.d.str[2:].astype(int))\n",
    "    df = df.fillna(\"missing\")\n",
    "    cols = list(set(df.columns) - {\"wm_yr_wk\", \"d\"})\n",
    "    df[cols] = OrdinalEncoder(dtype=\"int\").fit_transform(df[cols])\n",
    "    df = reduce_mem_usage(df)\n",
    "    return df\n",
    "\n",
    "calendar = prep_calendar(calendar)"
   ]
  },
  {
   "cell_type": "code",
   "execution_count": null,
   "metadata": {
    "hidden": true
   },
   "outputs": [],
   "source": [
    "def prep_selling_prices(df):\n",
    "    gr = df.groupby([\"store_id\", \"item_id\"])[\"sell_price\"]\n",
    "    df[\"sell_price_rel_diff\"] = gr.pct_change()\n",
    "    df[\"sell_price_roll_sd7\"] = gr.transform(lambda x: x.rolling(7).std())\n",
    "    df[\"sell_price_roll_sd28\"] = gr.transform(lambda x: x.rolling(28).std())\n",
    "    df[\"sell_price_cumrel\"] = (gr.shift(0) - gr.cummin()) / (1 + gr.cummax() - gr.cummin())\n",
    "    df = reduce_mem_usage(df)\n",
    "    return df\n",
    "\n",
    "selling_prices = prep_selling_prices(selling_prices)"
   ]
  },
  {
   "cell_type": "code",
   "execution_count": null,
   "metadata": {
    "hidden": true
   },
   "outputs": [],
   "source": [
    "dropd = 509\n",
    "(1969-dropd)/365 #Will use 4 years dat"
   ]
  },
  {
   "cell_type": "code",
   "execution_count": null,
   "metadata": {
    "hidden": true
   },
   "outputs": [],
   "source": [
    "def reshape_sales(df, drop_d = None):\n",
    "    if drop_d is not None:\n",
    "        df = df.drop([\"d_\" + str(i + 1) for i in range(drop_d)], axis=1)\n",
    "        \n",
    "    df = df.assign(id=df.id.str.replace(\"_evaluation\", \"\"))\n",
    "    df = df.reindex(columns=df.columns.tolist() + [\"d_\" + str(1913 + 28 + i + 1) for i in range(28)])\n",
    "    df = df.melt(id_vars=[\"id\", \"item_id\", \"dept_id\", \"cat_id\", \"store_id\", \"state_id\"],\n",
    "                 var_name='d', value_name='demand')\n",
    "    df = df.assign(d=df.d.str[2:].astype(\"int16\"))\n",
    "    return df\n",
    "\n",
    "sales = reshape_sales(sales, dropd)"
   ]
  },
  {
   "cell_type": "markdown",
   "metadata": {
    "heading_collapsed": true
   },
   "source": [
    "# Applying functions in parts"
   ]
  },
  {
   "cell_type": "code",
   "execution_count": null,
   "metadata": {
    "hidden": true
   },
   "outputs": [],
   "source": [
    "def long_sale_history_year(df):\n",
    "    gr = df.groupby(['id'])['demand']\n",
    "    for year in tqdm(range(1, 4)):\n",
    "        for d in [-3, -2, -1, 0, 1, 2, 3]: \n",
    "            shift = year * 365 + d\n",
    "            df[f'lag_year_{year}_{d}'] = gr.transform(lambda x: x.shift(shift))\n",
    "    df = reduce_mem_usage(df)    \n",
    "    return df\n",
    "\n",
    "sales = long_sale_history_year(sales)"
   ]
  },
  {
   "cell_type": "code",
   "execution_count": null,
   "metadata": {
    "hidden": true
   },
   "outputs": [],
   "source": [
    "def long_sale_history_halfyear(df):\n",
    "    gr = df.groupby(['id'])['demand']\n",
    "    for year in tqdm(range(1, 4)):\n",
    "        for d in [-3, -2, -1, 0, 1, 2, 3]: \n",
    "            shift = year * (365//2) + d\n",
    "            df[f'lag_hyear_{year}_{d}'] = gr.transform(lambda x: x.shift(shift))\n",
    "    df = reduce_mem_usage(df)        \n",
    "    return df\n",
    "\n",
    "sales = long_sale_history_halfyear(sales)"
   ]
  },
  {
   "cell_type": "code",
   "execution_count": null,
   "metadata": {
    "hidden": true
   },
   "outputs": [],
   "source": [
    "def long_sale_history_quarteryear(df):\n",
    "    gr = df.groupby(['id'])['demand']\n",
    "    for year in tqdm(range(1, 4)):\n",
    "        for d in [-3, -2, -1, 0, 1, 2, 3]: \n",
    "            shift = year * (365//4) + d\n",
    "            df[f'lag_qyear_{year}_{d}'] = gr.transform(lambda x: x.shift(shift))\n",
    "    df = reduce_mem_usage(df)         \n",
    "    return df\n",
    "\n",
    "sales = long_sale_history_quarteryear(sales)\n",
    "print(sales.shape)"
   ]
  },
  {
   "cell_type": "code",
   "execution_count": null,
   "metadata": {
    "hidden": true
   },
   "outputs": [],
   "source": [
    "# def long_price_history_year(df):\n",
    "#     gr = df.groupby(['id'])['sell_price']\n",
    "#     for year in tqdm(range(1, 4)):\n",
    "#         for d in [-3, -2, -1, 0, 1, 2, 3]: \n",
    "#             shift = year * 365 + d\n",
    "#             df[f'lag_year_{year}_{d}'] = gr.transform(lambda x: x.shift(shift))\n",
    "#     df = reduce_mem_usage(df)    \n",
    "#     return df\n",
    "\n",
    "# sales = long_sale_history_year(sales)\n",
    "\n",
    "# def long_price_history_halfyear(df):\n",
    "#     gr = df.groupby(['id'])['sell_price']\n",
    "#     for year in tqdm(range(1, 4)):\n",
    "#         for d in [-3, -2, -1, 0, 1, 2, 3]: \n",
    "#             shift = year * (365//2) + d\n",
    "#             df[f'lag_year_{year}_{d}'] = gr.transform(lambda x: x.shift(shift))\n",
    "#     df = reduce_mem_usage(df)    \n",
    "#     return df\n",
    "\n",
    "# sales = long_price_history_halfyear(sales)\n",
    "\n",
    "# def long_price_history_quarteryear(df):\n",
    "#     gr = df.groupby(['id'])['sell_price']\n",
    "#     for year in tqdm(range(1, 4)):\n",
    "#         for d in [-3, -2, -1, 0, 1, 2, 3]: \n",
    "#             shift = year * (365//4) + d\n",
    "#             df[f'lag_year_{year}_{d}'] = gr.transform(lambda x: x.shift(shift))\n",
    "#     df = reduce_mem_usage(df)    \n",
    "#     return df\n",
    "\n",
    "# sales = long_sale_history_year(sales)"
   ]
  },
  {
   "cell_type": "code",
   "execution_count": null,
   "metadata": {
    "hidden": true
   },
   "outputs": [],
   "source": [
    "!rm temp.hdf"
   ]
  },
  {
   "cell_type": "code",
   "execution_count": null,
   "metadata": {
    "hidden": true
   },
   "outputs": [],
   "source": [
    "sales.iloc[-NUM_ITEMS*28*24:].to_hdf(\"/home/timetraveller/Work/temp_large.hdf\", key=\"ok\", index=False)"
   ]
  },
  {
   "cell_type": "code",
   "execution_count": null,
   "metadata": {
    "hidden": true
   },
   "outputs": [],
   "source": [
    "!ls *hdf -alh"
   ]
  },
  {
   "cell_type": "code",
   "execution_count": null,
   "metadata": {
    "hidden": true
   },
   "outputs": [],
   "source": [
    "# sales.iloc[-NUM_ITEMS*28*12:].to_hdf(\"temp.hdf\", key=\"ok\", index=False)"
   ]
  },
  {
   "cell_type": "markdown",
   "metadata": {
    "heading_collapsed": true
   },
   "source": [
    "# Combine"
   ]
  },
  {
   "cell_type": "code",
   "execution_count": null,
   "metadata": {
    "hidden": true
   },
   "outputs": [],
   "source": [
    "sales = pd.read_hdf(\"temp.hdf\")"
   ]
  },
  {
   "cell_type": "code",
   "execution_count": null,
   "metadata": {
    "hidden": true
   },
   "outputs": [],
   "source": [
    "print(sales.shape)\n",
    "print(sales.shape[0]//NUM_ITEMS)\n",
    "sales.head()"
   ]
  },
  {
   "cell_type": "code",
   "execution_count": null,
   "metadata": {
    "hidden": true
   },
   "outputs": [],
   "source": [
    "sales = sales.merge(calendar, how=\"left\", on=\"d\")\n",
    "gc.collect()\n",
    "sales.head()"
   ]
  },
  {
   "cell_type": "code",
   "execution_count": null,
   "metadata": {
    "hidden": true
   },
   "outputs": [],
   "source": [
    "sales = sales.merge(selling_prices, how=\"left\", on=[\"wm_yr_wk\", \"store_id\", \"item_id\"])\n",
    "sales.drop([\"wm_yr_wk\"], axis=1, inplace=True)\n",
    "gc.collect()\n",
    "sales.head()"
   ]
  },
  {
   "cell_type": "code",
   "execution_count": null,
   "metadata": {
    "hidden": true
   },
   "outputs": [],
   "source": [
    "del selling_prices; gc.collect()"
   ]
  },
  {
   "cell_type": "code",
   "execution_count": null,
   "metadata": {
    "hidden": true
   },
   "outputs": [],
   "source": [
    "cat_id_cols = [\"item_id\", \"dept_id\", \"store_id\", \"cat_id\", \"state_id\"]\n",
    "cat_cols = cat_id_cols + [\"wday\", \"month\", \"year\", \"event_name_1\", \n",
    "                          \"event_type_1\", \"event_name_2\", \"event_type_2\"]\n",
    "\n",
    "for i, v in tqdm(enumerate(cat_id_cols)):\n",
    "    sales[v] = OrdinalEncoder(dtype=\"int\").fit_transform(sales[[v]])\n",
    "\n",
    "sales = reduce_mem_usage(sales)\n",
    "gc.collect()\n",
    "sales.head()"
   ]
  },
  {
   "cell_type": "code",
   "execution_count": null,
   "metadata": {
    "hidden": true
   },
   "outputs": [],
   "source": [
    "num_cols_price = [\"sell_price\", \"sell_price_rel_diff\", \"sell_price_roll_sd7\", \"sell_price_roll_sd28\", \"sell_price_cumrel\"]\n",
    "\n",
    "lag_cols = []\n",
    "for lag in  ['year', 'hyear', 'qyear']:\n",
    "    for y in range(1, 4):\n",
    "        for t in [-3, -2, 1, 0, 1, 2,  3]:\n",
    "            lag_cols.append(f\"lag_{lag}_{y}_{t}\")\n",
    "\n",
    "bool_cols = [\"snap_CA\", \"snap_TX\", \"snap_WI\"]\n",
    "\n",
    "cont_cols = num_cols_price + lag_cols + bool_cols\n",
    "\n",
    "for i, v in enumerate(tqdm(cont_cols)):\n",
    "    sales[v] = sales[v].fillna(sales[v].median())\n",
    "    \n",
    "sales.head()"
   ]
  },
  {
   "cell_type": "code",
   "execution_count": null,
   "metadata": {
    "hidden": true
   },
   "outputs": [],
   "source": [
    "sales.to_hdf(\"/home/timetraveller/Work/sales.hdf\", key=\"ok\", index=False)\n",
    "# sales= pd.read_hdf(\"/home/timetraveller/Work/sales.hdf\")"
   ]
  },
  {
   "cell_type": "code",
   "execution_count": null,
   "metadata": {
    "hidden": true
   },
   "outputs": [],
   "source": [
    "def make_data(i, days, sales, train=False):\n",
    "    if train: start = 0 \n",
    "    else: start = (days + i*28)*NUM_ITEMS\n",
    "    end = i*28*NUM_ITEMS\n",
    "    print(start)\n",
    "    print(end)\n",
    "    if i == 0:\n",
    "        return sales.iloc[-start:]\n",
    "    return sales.iloc[-start:-end]"
   ]
  },
  {
   "cell_type": "code",
   "execution_count": null,
   "metadata": {
    "hidden": true
   },
   "outputs": [],
   "source": [
    "e_days = 28*4\n",
    "d_days = 28\n",
    "days = e_days + d_days\n",
    "test = make_data(0, days, sales)\n",
    "val = make_data(1, days, sales)\n",
    "train = make_data(2, days, sales, True)"
   ]
  },
  {
   "cell_type": "code",
   "execution_count": null,
   "metadata": {
    "hidden": true
   },
   "outputs": [],
   "source": [
    "print(train.shape)\n",
    "print(train.shape[0]/NUM_ITEMS)\n",
    "\n",
    "print(val.shape)\n",
    "print(val.shape[0]/NUM_ITEMS)\n",
    "\n",
    "print(test.shape)\n",
    "print(test.shape[0]/NUM_ITEMS)"
   ]
  },
  {
   "cell_type": "code",
   "execution_count": null,
   "metadata": {
    "hidden": true
   },
   "outputs": [],
   "source": [
    "print(\">> train\")\n",
    "for col in train.columns:\n",
    "    if train[col].isna().any():\n",
    "        print(col)\n",
    "        \n",
    "print(\">> val\")\n",
    "for col in val.columns:\n",
    "    if val[col].isna().any():\n",
    "        print(col)    \n",
    "        \n",
    "print(\">> test\")\n",
    "for col in test.columns:\n",
    "    if test[col].isna().any():\n",
    "        print(col)    "
   ]
  },
  {
   "cell_type": "code",
   "execution_count": null,
   "metadata": {
    "hidden": true
   },
   "outputs": [],
   "source": [
    "import pickle\n",
    "def save(x, fname):\n",
    "    with open(fname, \"wb\") as handle:\n",
    "        pickle.dump(x, handle)\n",
    "        \n",
    "save(train, \"train_all.data\")        \n",
    "save(val, \"val.data\")        \n",
    "save(test, \"test.data\")        "
   ]
  },
  {
   "cell_type": "markdown",
   "metadata": {
    "heading_collapsed": true
   },
   "source": [
    "# Load data"
   ]
  },
  {
   "cell_type": "code",
   "execution_count": 2,
   "metadata": {
    "hidden": true
   },
   "outputs": [],
   "source": [
    "def load(fname):\n",
    "    with open(fname, \"rb\") as handle:\n",
    "        return pickle.load(handle)\n",
    "    \n",
    "# train = load(\"train.data\")    \n",
    "train = load(\"train_all.data\")    \n",
    "val = load(\"val.data\")    \n",
    "test = load(\"test.data\")    "
   ]
  },
  {
   "cell_type": "code",
   "execution_count": 3,
   "metadata": {
    "hidden": true
   },
   "outputs": [],
   "source": [
    "# save(train, \"train.data\")        \n",
    "# save(test, \"test.data\")        "
   ]
  },
  {
   "cell_type": "code",
   "execution_count": 4,
   "metadata": {
    "code_folding": [],
    "hidden": true
   },
   "outputs": [
    {
     "name": "stdout",
     "output_type": "stream",
     "text": [
      "# Cat cols: 5\n",
      "# Id cols: 5\n",
      "# Cont cols: 8\n",
      "# Lag cols: 63\n"
     ]
    }
   ],
   "source": [
    "id_cols = ['item_id', 'dept_id', 'store_id', 'cat_id', 'state_id']\n",
    "cat_cols = ['wday', 'event_name_1', 'event_type_1', 'event_name_2', 'event_type_2']\n",
    "\n",
    "num_cols_price = [\"sell_price\", \"sell_price_rel_diff\", \"sell_price_roll_sd7\", \"sell_price_roll_sd28\", \"sell_price_cumrel\"]\n",
    "\n",
    "lag_cols = []\n",
    "for lag in  ['year', 'hyear', 'qyear']:\n",
    "    for y in range(1, 4):\n",
    "        for t in [-3, -2, 1, 0, 1, 2,  3]:\n",
    "            lag_cols.append(f\"lag_{lag}_{y}_{t}\")\n",
    "\n",
    "bool_cols = [\"snap_CA\", \"snap_TX\", \"snap_WI\"]\n",
    "\n",
    "cont_cols = num_cols_price + bool_cols\n",
    "\n",
    "print(f\"# Cat cols: {len(cat_cols)}\")\n",
    "print(f\"# Id cols: {len(id_cols)}\")\n",
    "print(f\"# Cont cols: {len(cont_cols)}\")\n",
    "print(f\"# Lag cols: {len(lag_cols)}\")"
   ]
  },
  {
   "cell_type": "code",
   "execution_count": 5,
   "metadata": {
    "hidden": true
   },
   "outputs": [
    {
     "name": "stdout",
     "output_type": "stream",
     "text": [
      "Min max scaling cont and lag data.....\n"
     ]
    },
    {
     "data": {
      "application/vnd.jupyter.widget-view+json": {
       "model_id": "23a1b3b05369446ba420dbc947fcfa51",
       "version_major": 2,
       "version_minor": 0
      },
      "text/plain": [
       "HBox(children=(IntProgress(value=0, max=71), HTML(value='')))"
      ]
     },
     "metadata": {},
     "output_type": "display_data"
    },
    {
     "name": "stdout",
     "output_type": "stream",
     "text": [
      "\n"
     ]
    }
   ],
   "source": [
    "print(\"Min max scaling cont and lag data.....\")\n",
    "for col in tqdm(cont_cols + lag_cols):\n",
    "    maxval = train[col].max()\n",
    "    minval = train[col].min()\n",
    "    if maxval == minval:\n",
    "        denom = 1\n",
    "    else:\n",
    "        denom = maxval-minval\n",
    "    \n",
    "    train[col] = (train[col]-minval)/denom\n",
    "    val[col] = (val[col]-minval)/denom\n",
    "    test[col] = (test[col]-minval)/denom\n",
    "    gc.collect()    "
   ]
  },
  {
   "cell_type": "code",
   "execution_count": 6,
   "metadata": {
    "hidden": true
   },
   "outputs": [
    {
     "name": "stdout",
     "output_type": "stream",
     "text": [
      "280\n",
      "140\n",
      "140\n"
     ]
    }
   ],
   "source": [
    "TARGET = 'demand'\n",
    "print(train.shape[0]//NUM_ITEMS)\n",
    "print(val.shape[0]//NUM_ITEMS)\n",
    "print(test.shape[0]//NUM_ITEMS)"
   ]
  },
  {
   "cell_type": "code",
   "execution_count": 7,
   "metadata": {
    "hidden": true
   },
   "outputs": [
    {
     "name": "stdout",
     "output_type": "stream",
     "text": [
      ">> train\n",
      ">> val\n",
      ">> test\n",
      "demand\n"
     ]
    }
   ],
   "source": [
    "# Sanity check\n",
    "print(\">> train\")\n",
    "for col in train.columns:\n",
    "    if train[col].isna().any():\n",
    "        print(col)\n",
    "        \n",
    "print(\">> val\")\n",
    "for col in val.columns:\n",
    "    if val[col].isna().any():\n",
    "        print(col)    \n",
    "        \n",
    "print(\">> test\")\n",
    "for col in test.columns:\n",
    "    if test[col].isna().any():\n",
    "        print(col)    "
   ]
  },
  {
   "cell_type": "markdown",
   "metadata": {
    "heading_collapsed": true
   },
   "source": [
    "# DataLoader"
   ]
  },
  {
   "cell_type": "code",
   "execution_count": 8,
   "metadata": {
    "code_folding": [
     3
    ],
    "hidden": true
   },
   "outputs": [],
   "source": [
    "import os\n",
    "from torch.utils.data import TensorDataset, DataLoader,Dataset\n",
    "\n",
    "class M5Dataset_train(Dataset):\n",
    "    def __init__(self, X, cont_cols, cat_cols, id_cols, lag_cols, \n",
    "                             target='demand', e_days=28*4, d_days=28):\n",
    "        \n",
    "        self.e_days = e_days\n",
    "        self.d_days = d_days\n",
    "        cat_cols = id_cols + cat_cols \n",
    "        self.cat_cols = cat_cols\n",
    "        \n",
    "        self.X_cont = X[cont_cols].values\n",
    "        self.X_cat = X[cat_cols].values\n",
    "        self.X_lags = X[lag_cols].values\n",
    "        self.ids = X[id_cols].values\n",
    "        self.y = X[target].values\n",
    "        \n",
    "        x_days = X.shape[0]//NUM_ITEMS\n",
    "        total_days = x_days - e_days - d_days\n",
    "        self.len = int(NUM_ITEMS * total_days)\n",
    "        self.total_days = total_days\n",
    "        print(f\"total_days: {total_days}\")\n",
    "        print(f\"len: {self.len}\")\n",
    "\n",
    "    def get_ti(self, idx):\n",
    "        time, item = divmod(idx, NUM_ITEMS)\n",
    "        return time, item\n",
    "    \n",
    "    def __getitem__(self, idx):\n",
    "        time, item = self.get_ti(idx)\n",
    "        e_start_day = time\n",
    "        e_end_day = time + self.e_days\n",
    "        d_start_day = time + self.e_days\n",
    "        d_end_day = time + self.e_days + self.d_days\n",
    "        \n",
    "        e_idxes = item + np.arange(e_start_day, e_end_day)*NUM_ITEMS\n",
    "        d_idxes = item + np.arange(d_start_day, d_end_day)*NUM_ITEMS\n",
    "\n",
    "        #Encoding cat and cont information\n",
    "        encoder_cont = np.concatenate([self.X_cont[e_idxes],\n",
    "                                                                          self.y[e_idxes].reshape(-1, 1)], \n",
    "                                                                          axis=1)\n",
    "        encoder_cat = self.X_cat[e_idxes]\n",
    "        encoder_lags = self.X_lags[e_idxes]\n",
    "        enc_hist = self.y[e_idxes]\n",
    "        \n",
    "        #Decoding cat and cont information\n",
    "        decoder_cont = self.X_cont[d_idxes]\n",
    "        decoder_cat = self.X_cat[d_idxes]\n",
    "        decoder_lags = self.X_lags[d_idxes]\n",
    "        \n",
    "        #Labels\n",
    "        labels = self.y[d_idxes]\n",
    "        #Id (same for all timesteps)\n",
    "        ids = self.ids[idx]\n",
    "        return (enc_hist, encoder_cont, encoder_cat, encoder_lags, \n",
    "                        decoder_cont, decoder_cat, decoder_lags), idx, labels\n",
    "\n",
    "    def __len__(self):\n",
    "        return self.len\n",
    "\n",
    "    def __repr__(self):\n",
    "        return \"e_cont, e_cat, d_cont, d_cat, ids, y\""
   ]
  },
  {
   "cell_type": "code",
   "execution_count": 9,
   "metadata": {
    "code_folding": [
     3
    ],
    "hidden": true
   },
   "outputs": [],
   "source": [
    "class M5Dataset(Dataset):\n",
    "    def __init__(self, X, cont_cols, cat_cols, id_cols, lag_cols, \n",
    "                             target='demand', e_days=28*4, d_days=28):\n",
    "        \n",
    "        self.e_days = e_days\n",
    "        self.d_days = d_days\n",
    "        cat_cols = id_cols + cat_cols \n",
    "        self.cat_cols = cat_cols\n",
    "        \n",
    "        self.X_cont = X.iloc[-NUM_ITEMS*(e_days+d_days):][cont_cols].values\n",
    "        self.X_cat = X.iloc[-NUM_ITEMS*(e_days+d_days):][cat_cols].values\n",
    "        self.X_lags = X.iloc[-NUM_ITEMS*(e_days+d_days):][lag_cols].values\n",
    "        self.ids = X.iloc[-NUM_ITEMS*(e_days+d_days):][id_cols].values\n",
    "        self.y = X.iloc[-NUM_ITEMS*(e_days+d_days):][target].values\n",
    "        \n",
    "        self.len = NUM_ITEMS\n",
    "\n",
    "    def __getitem__(self, idx):\n",
    "        item = idx\n",
    "        e_start_day = 0\n",
    "        e_end_day = self.e_days\n",
    "        d_start_day = self.e_days\n",
    "        d_end_day = self.e_days  + self.d_days      \n",
    "        \n",
    "        \n",
    "        e_idxes = item + np.arange(e_start_day, e_end_day)*NUM_ITEMS\n",
    "        d_idxes = item + np.arange(d_start_day, d_end_day)*NUM_ITEMS\n",
    "\n",
    "        #Encoding cat and cont information\n",
    "        encoder_cont = np.concatenate([self.X_cont[e_idxes],\n",
    "                                                                          self.y[e_idxes].reshape(-1, 1)], \n",
    "                                                                          axis=1)\n",
    "        encoder_cat = self.X_cat[e_idxes]\n",
    "        encoder_lags = self.X_lags[e_idxes]\n",
    "        enc_hist = self.y[e_idxes]\n",
    "        \n",
    "        #Decoding cat and cont information\n",
    "        decoder_cont = self.X_cont[d_idxes]\n",
    "        decoder_cat = self.X_cat[d_idxes]\n",
    "        decoder_lags = self.X_lags[d_idxes]\n",
    "        \n",
    "        #Labels\n",
    "        labels = self.y[d_idxes]\n",
    "        #Id (same for all timesteps)\n",
    "        ids = self.ids[idx]\n",
    "        return (enc_hist, encoder_cont, encoder_cat, encoder_lags, \n",
    "                        decoder_cont, decoder_cat, decoder_lags), idx, labels\n",
    "\n",
    "    def __len__(self):\n",
    "        return self.len\n",
    "\n",
    "    def __repr__(self):\n",
    "        return \"e_cont, e_cat, d_cont, d_cat, ids, y\""
   ]
  },
  {
   "cell_type": "code",
   "execution_count": 10,
   "metadata": {
    "hidden": true
   },
   "outputs": [
    {
     "name": "stdout",
     "output_type": "stream",
     "text": [
      "total_days: 140\n",
      "len: 4268600\n"
     ]
    }
   ],
   "source": [
    "bs = 128\n",
    "shuffle = True\n",
    "num_workers = 4\n",
    "e_days = 28*4 #Can't be more than 28*4 for now\n",
    "d_days = 28\n",
    "\n",
    "\n",
    "train_dataset = M5Dataset_train(train, cont_cols, cat_cols, id_cols, lag_cols, \n",
    "                                                 e_days=e_days, d_days=d_days)\n",
    "\n",
    "train_loader = DataLoader(train_dataset, batch_size=bs,\n",
    "                                    shuffle=shuffle, num_workers=num_workers)\n",
    "\n",
    "val_dataset = M5Dataset(val, cont_cols, cat_cols, id_cols, lag_cols, \n",
    "                                                 e_days=e_days, d_days=d_days)\n",
    "\n",
    "val_loader = DataLoader(val_dataset, batch_size=bs,\n",
    "                                    shuffle=False, num_workers=num_workers)"
   ]
  },
  {
   "cell_type": "code",
   "execution_count": 11,
   "metadata": {
    "hidden": true,
    "scrolled": true
   },
   "outputs": [
    {
     "name": "stdout",
     "output_type": "stream",
     "text": [
      "Train\n",
      "4268600\n",
      "33349\n",
      "torch.Size([128, 112])\n",
      "torch.Size([128, 112, 9])\n",
      "torch.Size([128, 112, 10])\n",
      "torch.Size([128, 112, 63])\n",
      "torch.Size([128, 28, 8])\n",
      "torch.Size([128, 28, 10])\n",
      "torch.Size([128, 28, 63])\n",
      "tensor([2505276, 2424199, 2201900, 2167290, 1523832, 2294929, 4194292, 2507456,\n",
      "        4091034, 2529923, 1889000,  370847, 2258095, 3290940, 3543385, 3200655,\n",
      "        1916775, 3891441, 3038127, 3245359, 3865593, 1972778, 2514135, 1516548,\n",
      "        2782877, 3344794, 4051845, 1480392, 2299152, 1280318,  528085, 1860425,\n",
      "           7861,  469628, 2632129,  875416,  130416,   88783, 2722594, 1428339,\n",
      "        1523217, 4073846, 4064255, 3330863, 2683579,  903469, 3808007,  713401,\n",
      "         149038,  909036, 3882420, 3538974, 1780822, 1351569,  347853, 2783834,\n",
      "        3150010, 1126270, 1306162, 2216645, 2475260, 1231454, 1939562, 1481643,\n",
      "        3249043,  154605, 2611563, 3314850, 1723729, 3429861, 2136074,  278160,\n",
      "        1182876, 1383218, 2012669, 2213532, 3753026, 2119267, 3390608, 3312397,\n",
      "        1045756, 1526062, 2568052, 1873615, 4077849, 2066218, 1638001, 1560241,\n",
      "        2682623,  184276, 2745325, 3377337, 1245549,  984775,  424555,  938079,\n",
      "           2213, 2166068, 2544918, 2165305, 4008737, 2317828, 1386709, 2564115,\n",
      "        1607909, 1732272, 2596057, 3341162, 2527719, 2416995,  176891, 4194135,\n",
      "         847966,  279064, 2167964,  577549, 1488959, 3303318,  379895, 4086324,\n",
      "         140297,  176070, 3758448, 1675772, 4129581, 1050892, 2894997, 3423848])\n",
      "\n",
      "Val\n",
      "30490\n",
      "239\n",
      "torch.Size([128, 112])\n",
      "torch.Size([128, 112, 9])\n",
      "torch.Size([128, 112, 10])\n",
      "torch.Size([128, 112, 63])\n",
      "torch.Size([128, 28, 8])\n",
      "torch.Size([128, 28, 10])\n",
      "torch.Size([128, 28, 63])\n",
      "tensor([  0,   1,   2,   3,   4,   5,   6,   7,   8,   9,  10,  11,  12,  13,\n",
      "         14,  15,  16,  17,  18,  19,  20,  21,  22,  23,  24,  25,  26,  27,\n",
      "         28,  29,  30,  31,  32,  33,  34,  35,  36,  37,  38,  39,  40,  41,\n",
      "         42,  43,  44,  45,  46,  47,  48,  49,  50,  51,  52,  53,  54,  55,\n",
      "         56,  57,  58,  59,  60,  61,  62,  63,  64,  65,  66,  67,  68,  69,\n",
      "         70,  71,  72,  73,  74,  75,  76,  77,  78,  79,  80,  81,  82,  83,\n",
      "         84,  85,  86,  87,  88,  89,  90,  91,  92,  93,  94,  95,  96,  97,\n",
      "         98,  99, 100, 101, 102, 103, 104, 105, 106, 107, 108, 109, 110, 111,\n",
      "        112, 113, 114, 115, 116, 117, 118, 119, 120, 121, 122, 123, 124, 125,\n",
      "        126, 127])\n"
     ]
    }
   ],
   "source": [
    "print(\"Train\")\n",
    "print(len(train_dataset))\n",
    "print(len(train_loader))\n",
    "\n",
    "for i, (x, idx, y) in enumerate(train_loader):\n",
    "    for _x in x:\n",
    "        print(_x.shape)\n",
    "    print(idx)    \n",
    "    break\n",
    "    \n",
    "print(\"\\nVal\")\n",
    "print(len(val_dataset))\n",
    "print(len(val_loader))\n",
    "\n",
    "for i, (x, idx, y) in enumerate(val_loader):\n",
    "    for _x in x:\n",
    "        print(_x.shape)\n",
    "    print(idx)    \n",
    "    break    "
   ]
  },
  {
   "cell_type": "code",
   "execution_count": 12,
   "metadata": {
    "hidden": true,
    "scrolled": true
   },
   "outputs": [],
   "source": [
    "# for i, (x, idx, y) in enumerate(tqdm(train_loader)):\n",
    "#     continue"
   ]
  },
  {
   "cell_type": "markdown",
   "metadata": {
    "heading_collapsed": true
   },
   "source": [
    "# Losses"
   ]
  },
  {
   "cell_type": "code",
   "execution_count": 13,
   "metadata": {
    "code_folding": [
     2,
     12,
     22,
     34,
     43,
     54,
     57,
     61,
     67,
     73
    ],
    "hidden": true
   },
   "outputs": [],
   "source": [
    "calc_wrmsse = True\n",
    "\n",
    "class MSE(nn.Module):\n",
    "    def __init__(self):\n",
    "        super().__init__()\n",
    "        self.mse = nn.MSELoss()\n",
    "    \n",
    "    def forward(self, y_pred, y_true):\n",
    "        y_true = y_true.type(torch.FloatTensor).to(device).flatten()\n",
    "        y_pred = y_pred.flatten()\n",
    "        return self.mse(y_pred, y_true)\n",
    "\n",
    "class RMSE(nn.Module):\n",
    "    def __init__(self):\n",
    "        super().__init__()\n",
    "        self.mse = nn.MSELoss()\n",
    "    \n",
    "    def forward(self, y_pred, y_true):\n",
    "        y_true = y_true.type(torch.FloatTensor).to(device).flatten()\n",
    "        y_pred = y_pred.flatten()\n",
    "        return torch.sqrt(self.mse(y_pred, y_true))    \n",
    "    \n",
    "class Assymetric_RMSE(nn.Module):\n",
    "    def __init__(self, penalty=3.5):\n",
    "        super().__init__()\n",
    "        self.mse = nn.MSELoss()\n",
    "        self.penalty = penalty\n",
    "        \n",
    "    def forward(self, y_pred, y_true):\n",
    "        y_true = y_true.type(torch.FloatTensor).to(device).flatten()\n",
    "        y_pred = y_pred.flatten()\n",
    "        error = torch.where(y_true==0, self.penalty*(y_true-y_pred)**2, (y_true-y_pred)**2)\n",
    "        return torch.sqrt(torch.mean(error))\n",
    "\n",
    "class MAE(nn.Module):\n",
    "    def __init__(self):\n",
    "        super().__init__()\n",
    "    \n",
    "    def forward(self, y_pred, y_true):\n",
    "        y_true = y_true.type(torch.FloatTensor).to(device).flatten()\n",
    "        y_pred = y_pred.flatten()\n",
    "        return torch.mean(torch.abs(y_pred-y_true))        \n",
    "    \n",
    "if calc_wrmsse:\n",
    "    roll_mat_df = pd.read_pickle('../data/roll_mat_df.pkl')\n",
    "    roll_index = roll_mat_df.index\n",
    "    roll_mat_csr = csr_matrix(roll_mat_df.values)\n",
    "    del roll_mat_df; gc.collect()\n",
    "\n",
    "    sw_df = pd.read_pickle('../data/sw_df.pkl')\n",
    "    s = sw_df.s.values\n",
    "    w = sw_df.w.values\n",
    "    sw = sw_df.sw.values   \n",
    "    \n",
    "def rollup(v, roll_mat_csr):\n",
    "    return roll_mat_csr*v #(v.T*roll_mat_csr.T).T\n",
    "\n",
    "def wrmsse_metric(preds, y_true, score_only=True, npy=True, roll_mat_csr=None, sw=None, roll_index=roll_index, verbose=False, s=s, w=w):\n",
    "    preds = np.array(preds).reshape(NUM_ITEMS, -1)\n",
    "    y_true = np.array(y_true).reshape(NUM_ITEMS, -1)\n",
    "\n",
    "    if roll_mat_csr is None:\n",
    "        roll_mat_df = pd.read_pickle('../data/roll_mat_df.pkl')\n",
    "        roll_index = roll_mat_df.index\n",
    "        roll_mat_csr = csr_matrix(roll_mat_df.values)\n",
    "        del roll_mat_df; gc.collect()\n",
    "\n",
    "    if sw is None:\n",
    "        sw_df = pd.read_pickle('../data/sw_df.pkl')\n",
    "        s = sw_df.s.values\n",
    "        w = sw_df.w.values\n",
    "        sw = sw_df.sw.values\n",
    "\n",
    "    if not npy:\n",
    "        preds = preds.values\n",
    "        y_true = y_true.values\n",
    "    \n",
    "    if score_only:\n",
    "        return np.sum(\n",
    "                np.sqrt(\n",
    "                    np.mean(\n",
    "                        np.square(rollup(preds-y_true, roll_mat_csr))\n",
    "                            ,axis=1)) * sw)/12 \n",
    "    else: \n",
    "        score_matrix = (np.square(rollup(preds-y_true, roll_mat_csr)) * np.square(w)[:, None])/ s[:, None]\n",
    "        score = np.sum(np.sqrt(np.mean(score_matrix, axis=1)))/12 \n",
    "        \n",
    "        score_df = pd.DataFrame(score_matrix, index = roll_index)\n",
    "        score_df.reset_index(inplace=True)\n",
    "        score_df['mean_err'] = score_df.mean(axis=1)\n",
    "        level_wise_error1 = score_df.groupby('level')['mean_err'].mean()\n",
    "        \n",
    "        return score, level_wise_error1.values\n",
    "\n",
    "def rmse_metric(y_pred, y_true):\n",
    "    y_pred = np.array(y_pred)\n",
    "    y_true = np.array(y_true)\n",
    "    return np.sqrt(np.mean((y_pred-y_true)**2))                                \n",
    "\n",
    "def rmse_metric_npy(y_pred, y_true):\n",
    "    return np.sqrt(np.mean((y_pred-y_true)**2))  "
   ]
  },
  {
   "cell_type": "code",
   "execution_count": 14,
   "metadata": {
    "code_folding": [
     0
    ],
    "hidden": true
   },
   "outputs": [],
   "source": [
    "class WRMSSE(nn.Module):\n",
    "    def __init__(self, roll_mat_csr=roll_mat_csr, sw=sw):\n",
    "        super().__init__()\n",
    "        roll_mat_coo = roll_mat_csr.tocoo()\n",
    "        self.rollTensor = torch.sparse.LongTensor(torch.LongTensor([roll_mat_coo.row.tolist(), roll_mat_coo.col.tolist()]),\n",
    "                              torch.LongTensor(roll_mat_coo.data.astype(np.int32))).type(torch.FloatTensor).to_dense()\n",
    "        self.sw_t = torch.FloatTensor(sw).to(device)\n",
    "\n",
    "    def forward(self, y_pred, y_true, idxes):\n",
    "        _bs = y_true.shape[0]\n",
    "        idxes = list(idxes.numpy())\n",
    "        y_true = y_true.type(torch.FloatTensor).to(device).flatten().view(_bs, -1)\n",
    "        y_pred = y_pred.flatten().view(_bs, -1)\n",
    "        \n",
    "        residual = y_true-y_pred\n",
    "        \n",
    "        loss = torch.sum(torch.sqrt(\n",
    "                    torch.mean((\n",
    "                        torch.mm(self.rollTensor[:, idxes].to(device), residual)**2), axis=1)+1e-8 \n",
    "                    )*self.sw_t)/12        \n",
    "        return 1e4*loss #Dont want gradients too small  "
   ]
  },
  {
   "cell_type": "code",
   "execution_count": 15,
   "metadata": {
    "code_folding": [
     0
    ],
    "hidden": true
   },
   "outputs": [],
   "source": [
    "class WeightedRoll_MSE(nn.Module):\n",
    "    def __init__(self):\n",
    "        super().__init__()\n",
    "        self.mse = nn.MSELoss()\n",
    "        self.sw_t = torch.FloatTensor(sw[:, np.newaxis]).to(device)\n",
    "        roll_mat_coo = roll_mat_csr.tocoo()\n",
    "        self.rollTensor = torch.sparse.LongTensor(torch.LongTensor([roll_mat_coo.row.tolist(), roll_mat_coo.col.tolist()]),\n",
    "                              torch.LongTensor(roll_mat_coo.data.astype(np.int32))).type(torch.FloatTensor).to_dense()\n",
    "        \n",
    "    def rollup(self, x):\n",
    "        return torch.mm(self.rollTensor, x)\n",
    "        \n",
    "    def forward(self, y_pred, y_true, i):\n",
    "        _bs = y_true.shape[0]\n",
    "        idxes = np.arange(i*bs, i*bs+_bs)\n",
    "        \n",
    "        y_true = y_true.type(torch.FloatTensor).to(device).flatten().view(_bs, -1)\n",
    "        y_pred = y_pred.flatten().view(_bs, -1)\n",
    "        \n",
    "        error1 = self.mse(y_pred, y_true)\n",
    "        partial_roll_t = self.rollTensor[:, idxes].to(device)\n",
    "        \n",
    "        y_pred = torch.mm(partial_roll_t, y_pred)\n",
    "        y_true = torch.mm(partial_roll_t, y_true)\n",
    "        y_pred = (self.sw_t*y_pred).flatten()\n",
    "        y_true = (self.sw_t*y_true).flatten()\n",
    "        error2 = 1e8*self.mse(y_pred, y_true)\n",
    "        \n",
    "        return error1 + error2 #Dont want gradients to be too small"
   ]
  },
  {
   "cell_type": "code",
   "execution_count": 16,
   "metadata": {
    "code_folding": [
     0
    ],
    "hidden": true
   },
   "outputs": [],
   "source": [
    "class RMSE_summed(nn.Module):\n",
    "    def __init__(self):\n",
    "        super().__init__()\n",
    "        self.mse = nn.MSELoss()\n",
    "    \n",
    "    def forward(self, y_pred, y_true):\n",
    "        y_true = y_true.type(torch.FloatTensor).to(device).flatten()\n",
    "        y_pred = y_pred.flatten()\n",
    "        n = y_true.shape[0]+1 #1 for sum of all        \n",
    "        error1 = self.mse(y_true, y_pred)\n",
    "        true_sum = torch.sum(y_true)\n",
    "        pred_sum = torch.sum(y_pred)\n",
    "        residual = torch.abs(true_sum-pred_sum)\n",
    "        error2 = residual/n\n",
    "        \n",
    "#         error1 = torch.sum((torch.log1p(y_true) - torch.log1p(y_pred))**2)/n\n",
    "#         error2 = (torch.log1p(torch.sum(y_true)) - torch.log1p(torch.sum(y_pred)))**2/n\n",
    "        return error1 + error2"
   ]
  },
  {
   "cell_type": "markdown",
   "metadata": {},
   "source": [
    "# Model"
   ]
  },
  {
   "cell_type": "code",
   "execution_count": 17,
   "metadata": {},
   "outputs": [],
   "source": [
    "from tst.encoder import Encoder\n",
    "from tst.decoder import Decoder\n",
    "from tst.utils import generate_original_PE, generate_regular_PE"
   ]
  },
  {
   "cell_type": "code",
   "execution_count": 18,
   "metadata": {},
   "outputs": [],
   "source": [
    "# uniques = [3049, 7, 10, 3, 3, 7, 31, 5, 5, 5]\n",
    "# # dims = [5, 1, 2, 1, 1, 1, 2, 1, 1, 1]\n",
    "# dims = [7, 2, 3, 1, 1, 1, 3, 1, 1, 1]\n",
    "# emb_dims = [(x, y) for x, y in zip(uniques, dims)]\n",
    "# print(emb_dims)"
   ]
  },
  {
   "cell_type": "code",
   "execution_count": 19,
   "metadata": {},
   "outputs": [
    {
     "name": "stdout",
     "output_type": "stream",
     "text": [
      "[(3049, 16), (7, 2), (10, 3), (3, 1), (3, 1), (7, 2), (31, 4), (5, 2), (5, 2), (5, 2)]\n"
     ]
    }
   ],
   "source": [
    "uniques = [3049, 7, 10, 3, 3, 7, 31, 5, 5, 5]\n",
    "# dims = [5, 1, 2, 1, 1, 1, 2, 1, 1, 1]\n",
    "dims = [16, 2, 3, 1, 1, 2, 4, 2, 2, 2]\n",
    "emb_dims = [(x, y) for x, y in zip(uniques, dims)]\n",
    "print(emb_dims)"
   ]
  },
  {
   "cell_type": "code",
   "execution_count": 36,
   "metadata": {
    "code_folding": [
     0,
     1
    ]
   },
   "outputs": [],
   "source": [
    "class ConvModule(nn.Module):\n",
    "    def __init__(self, seq_len=56):\n",
    "        super().__init__()\n",
    "        self.seq_len = seq_len\n",
    "        \n",
    "        self.global_conv = nn.Conv1d(1, 2, kernel_size=(seq_len))\n",
    "        self.week_conv = nn.Conv1d(1, 1, kernel_size=(7))\n",
    "        self.last_week_conv = nn.Conv1d(1, 1, kernel_size=(7))\n",
    "        self.drop = nn.Dropout(0.2)\n",
    "        \n",
    "    def forward(self, x):\n",
    "        x = x[:, None, :] #insert 1 channel (bs, channel, timesteps)\n",
    "        bs = x.shape[0]\n",
    "        \n",
    "        out1 = self.global_conv(x).view(bs, -1).view(bs, -1)\n",
    "        out1 = self.drop(out1)\n",
    "        \n",
    "        out2 = self.week_conv(x).view(bs, -1).view(bs, -1)\n",
    "        out2 = self.drop(out2)\n",
    "        \n",
    "        out3 = self.last_week_conv(x[:, :, -7:]).view(bs, -1)\n",
    "        out3 = self.drop(out3)     \n",
    "        \n",
    "        out = torch.cat([out1, out2, out3], axis=1)\n",
    "        return out\n",
    "\n",
    "class M5Transformer(nn.Module):\n",
    "    def __init__(self,\n",
    "                 d_input: int,\n",
    "                 d_model: int,\n",
    "                 d_output: int,\n",
    "                 q: int,\n",
    "                 v: int,\n",
    "                 h: int,\n",
    "                 N_e: int,\n",
    "                 N_d: int,\n",
    "                 n_months: int,\n",
    "                 attention_size: int = None,\n",
    "                 dropout: float = 0.3,\n",
    "                 chunk_mode: bool = True,\n",
    "                 pe: str = None,\n",
    "                 n_lag_convs=3,\n",
    "                 e_days = 28*4,\n",
    "                 d_days = 28):\n",
    "        \n",
    "        super().__init__()\n",
    "        \n",
    "        self._d_model = d_model\n",
    "        self._inp_dropout = nn.Dropout(0.1)\n",
    "\n",
    "        self.emb_layers = nn.ModuleList([nn.Embedding(x, y) for x, y in emb_dims])\n",
    "        self._lag_per_time = nn.Linear(63, n_lag_convs)\n",
    "        \n",
    "        self._e_inp_norm = nn.LayerNorm(d_input+n_lag_convs)\n",
    "        self._d_inp_norm = nn.LayerNorm(d_input+n_lag_convs-1)\n",
    "\n",
    "        self._embedding = nn.Linear(d_input, d_model)\n",
    "        \n",
    "        self.enc_embedding = nn.Linear(d_input+n_lag_convs, d_model)\n",
    "        self.dec_embedding = nn.Linear(d_input-1+n_lag_convs, d_model)\n",
    "        \n",
    "        self.layers_encoding = nn.ModuleList([Encoder(d_model,\n",
    "                                                      q,\n",
    "                                                      v,\n",
    "                                                      h,\n",
    "                                                      attention_size=attention_size,\n",
    "                                                      dropout=dropout,\n",
    "                                                      chunk_mode=chunk_mode) for _ in range(N_e)])\n",
    "        \n",
    "        self.layers_decoding = nn.ModuleList([Decoder(d_model,\n",
    "                                                      q,\n",
    "                                                      v,\n",
    "                                                      h,\n",
    "                                                      n_months,\n",
    "                                                      attention_size=attention_size,\n",
    "                                                      dropout=dropout,\n",
    "                                                      chunk_mode=chunk_mode) for _ in range(N_d)])\n",
    "\n",
    "        self.hist_covs = ConvModule(e_days)\n",
    "        out_dim = 237\n",
    "        self.out = nn.Sequential(\n",
    "                                        nn.Linear(out_dim, out_dim//2),\n",
    "                                        nn.LeakyReLU(),\n",
    "                                        nn.LayerNorm(out_dim//2),\n",
    "                                        nn.Linear(out_dim//2, d_output),\n",
    "                                    )\n",
    "        \n",
    "#         self.out = nn.Linear(out_dim, d_output)\n",
    "        \n",
    "        pe_functions = {\n",
    "            'original': generate_original_PE,\n",
    "            'regular': generate_regular_PE,\n",
    "        }\n",
    "\n",
    "        if pe in pe_functions.keys():\n",
    "            self._generate_PE = pe_functions[pe]\n",
    "        elif pe is None:\n",
    "            self._generate_PE = None\n",
    "        else:\n",
    "            raise NameError(\n",
    "                f'PE \"{pe}\" not understood. Must be one of {\", \".join(pe_functions.keys())} or None.')\n",
    "\n",
    "#     def lag_features(self, lag):\n",
    "#         bs, t, nf = lag.shape\n",
    "#         lag_features = []        \n",
    "#         for i in range(t):\n",
    "#                 _x = lag[:, i, :].reshape(bs, nf, -1)\n",
    "#                 feats = [lc(_x) for lc in self._lag_convs]\n",
    "#                 lag_features.append(torch.cat(feats, dim=2))\n",
    "#         return torch.cat(lag_features, dim=1)\n",
    "                \n",
    "    def embed_and_combine(self, cont, cat, lag):\n",
    "        cat = cat.type(torch.LongTensor).to(device)\n",
    "        cont = cont.type(torch.FloatTensor).to(device)\n",
    "        lag = lag.type(torch.FloatTensor).to(device)                \n",
    "        xcat = [el(cat[:, :, k]) for k, el in enumerate(self.emb_layers)]\n",
    "        xcat = torch.cat(xcat, axis=2)\n",
    "        xlags = self._lag_per_time(lag)        \n",
    "        combined = torch.cat([xcat, cont, xlags], axis=2) \n",
    "        combined = self._inp_dropout(combined)  \n",
    "        return combined \n",
    "\n",
    "                \n",
    "    def forward(self, x):\n",
    "        hist, e_cont, e_cat, e_lag, d_cont, d_cat, d_lag = x        \n",
    "                \n",
    "        encoder_input = self.embed_and_combine(e_cont, e_cat, e_lag) #(bs, etime, d_inp)\n",
    "        encoder_input = self._e_inp_norm(encoder_input)\n",
    "        decoder_input = self.embed_and_combine(d_cont, d_cat, d_lag) #(bs, etime, d_inp-1)\n",
    "        decoder_input = self._d_inp_norm(decoder_input)\n",
    "                \n",
    "        bs = encoder_input.shape[0]         \n",
    "        Ke = encoder_input.shape[1]\n",
    "        Kd = decoder_input.shape[1]\n",
    "\n",
    "        # Embedding module\n",
    "        encoding = self.enc_embedding(encoder_input)        \n",
    "\n",
    "        # Add position encoding\n",
    "        if self._generate_PE is not None:\n",
    "            positional_encoding = self._generate_PE(Ke, self._d_model)\n",
    "            positional_encoding = positional_encoding.to(encoding.device)\n",
    "            encoding.add_(positional_encoding)\n",
    "\n",
    "        # Encoding stack\n",
    "        for layer in self.layers_encoding:\n",
    "            encoding = layer(encoding)\n",
    "\n",
    "        # Decoding stack\n",
    "        decoding = self.dec_embedding(decoder_input)        \n",
    "#         decoding = encoding        \n",
    "\n",
    "        # Add position encoding\n",
    "        if self._generate_PE is not None:\n",
    "            positional_encoding = self._generate_PE(Kd, self._d_model)\n",
    "            positional_encoding = positional_encoding.to(decoding.device)\n",
    "            decoding.add_(positional_encoding)\n",
    "                \n",
    "        for layer in self.layers_decoding:\n",
    "            decoding = layer(decoding, encoding)\n",
    "\n",
    "        # Output module\n",
    "        _hist = self.hist_covs(hist.type(torch.FloatTensor).to(device))       \n",
    "        _hist = _hist.unsqueeze(1).repeat(1, 28, 1)        \n",
    "        output = self.out(torch.cat([decoding, _hist], 2))\n",
    "#         output = F.relu(output)\n",
    "        return output.reshape(bs, -1)"
   ]
  },
  {
   "cell_type": "code",
   "execution_count": 37,
   "metadata": {},
   "outputs": [],
   "source": [
    "d_input = 44 \n",
    "d_model = 64 \n",
    "d_output = 1\n",
    "q = 8  \n",
    "v = 8  \n",
    "h = 1 # Number of heads\n",
    "N_e = 2 # Number of encoders to stack\n",
    "N_d = 1 # Number of decoders to stack\n",
    "attention_size = 12  \n",
    "n_months = e_days // d_days\n",
    "dropout = 0.2 \n",
    "# pe = 'original'\n",
    "pe = None\n",
    "chunk_mode = None\n",
    "n_lag_convs = 9 #over 63 past lags"
   ]
  },
  {
   "cell_type": "code",
   "execution_count": 38,
   "metadata": {},
   "outputs": [],
   "source": [
    "# criterion = RMSE()\n",
    "# criterion = WRMSSE()\n",
    "# criterion = Assymetric_RMSE(penalty=3.5)\n",
    "# criterion = WeightedRoll_MSE()\n",
    "model = M5Transformer(d_input, d_model, d_output, q, v, h, N_e, N_d, n_months, attention_size=attention_size,\n",
    "                  dropout=dropout, chunk_mode=chunk_mode, pe=pe, n_lag_convs=n_lag_convs, e_days=e_days,\n",
    "                     d_days=d_days).to(device)"
   ]
  },
  {
   "cell_type": "code",
   "execution_count": 39,
   "metadata": {
    "scrolled": true
   },
   "outputs": [
    {
     "data": {
      "text/plain": [
       "M5Transformer(\n",
       "  (_inp_dropout): Dropout(p=0.1, inplace=False)\n",
       "  (emb_layers): ModuleList(\n",
       "    (0): Embedding(3049, 16)\n",
       "    (1): Embedding(7, 2)\n",
       "    (2): Embedding(10, 3)\n",
       "    (3): Embedding(3, 1)\n",
       "    (4): Embedding(3, 1)\n",
       "    (5): Embedding(7, 2)\n",
       "    (6): Embedding(31, 4)\n",
       "    (7): Embedding(5, 2)\n",
       "    (8): Embedding(5, 2)\n",
       "    (9): Embedding(5, 2)\n",
       "  )\n",
       "  (_lag_per_time): Linear(in_features=63, out_features=9, bias=True)\n",
       "  (_e_inp_norm): LayerNorm((53,), eps=1e-05, elementwise_affine=True)\n",
       "  (_d_inp_norm): LayerNorm((52,), eps=1e-05, elementwise_affine=True)\n",
       "  (_embedding): Linear(in_features=44, out_features=64, bias=True)\n",
       "  (enc_embedding): Linear(in_features=53, out_features=64, bias=True)\n",
       "  (dec_embedding): Linear(in_features=52, out_features=64, bias=True)\n",
       "  (layers_encoding): ModuleList(\n",
       "    (0): Encoder(\n",
       "      (_selfAttention): MultiHeadAttention(\n",
       "        (_W_q): Linear(in_features=64, out_features=8, bias=True)\n",
       "        (_W_k): Linear(in_features=64, out_features=8, bias=True)\n",
       "        (_W_v): Linear(in_features=64, out_features=8, bias=True)\n",
       "        (_W_o): Linear(in_features=8, out_features=64, bias=True)\n",
       "      )\n",
       "      (_feedForward): PositionwiseFeedForward(\n",
       "        (_linear1): Linear(in_features=64, out_features=128, bias=True)\n",
       "        (_linear2): Linear(in_features=128, out_features=64, bias=True)\n",
       "        (act): LeakyReLU(negative_slope=0.01)\n",
       "      )\n",
       "      (_layerNorm1): LayerNorm((64,), eps=1e-05, elementwise_affine=True)\n",
       "      (_layerNorm2): LayerNorm((64,), eps=1e-05, elementwise_affine=True)\n",
       "      (_dopout): Dropout(p=0.2, inplace=False)\n",
       "    )\n",
       "    (1): Encoder(\n",
       "      (_selfAttention): MultiHeadAttention(\n",
       "        (_W_q): Linear(in_features=64, out_features=8, bias=True)\n",
       "        (_W_k): Linear(in_features=64, out_features=8, bias=True)\n",
       "        (_W_v): Linear(in_features=64, out_features=8, bias=True)\n",
       "        (_W_o): Linear(in_features=8, out_features=64, bias=True)\n",
       "      )\n",
       "      (_feedForward): PositionwiseFeedForward(\n",
       "        (_linear1): Linear(in_features=64, out_features=128, bias=True)\n",
       "        (_linear2): Linear(in_features=128, out_features=64, bias=True)\n",
       "        (act): LeakyReLU(negative_slope=0.01)\n",
       "      )\n",
       "      (_layerNorm1): LayerNorm((64,), eps=1e-05, elementwise_affine=True)\n",
       "      (_layerNorm2): LayerNorm((64,), eps=1e-05, elementwise_affine=True)\n",
       "      (_dopout): Dropout(p=0.2, inplace=False)\n",
       "    )\n",
       "  )\n",
       "  (layers_decoding): ModuleList(\n",
       "    (0): Decoder(\n",
       "      (_mwa): MonthlyWeightedAvg(\n",
       "        (_conv): Conv1d(4, 1, kernel_size=(1,), stride=(1,))\n",
       "      )\n",
       "      (_selfAttention): MultiHeadAttention(\n",
       "        (_W_q): Linear(in_features=64, out_features=8, bias=True)\n",
       "        (_W_k): Linear(in_features=64, out_features=8, bias=True)\n",
       "        (_W_v): Linear(in_features=64, out_features=8, bias=True)\n",
       "        (_W_o): Linear(in_features=8, out_features=64, bias=True)\n",
       "      )\n",
       "      (_encoderDecoderAttention): MultiHeadAttention(\n",
       "        (_W_q): Linear(in_features=64, out_features=8, bias=True)\n",
       "        (_W_k): Linear(in_features=64, out_features=8, bias=True)\n",
       "        (_W_v): Linear(in_features=64, out_features=8, bias=True)\n",
       "        (_W_o): Linear(in_features=8, out_features=64, bias=True)\n",
       "      )\n",
       "      (_feedForward): PositionwiseFeedForward(\n",
       "        (_linear1): Linear(in_features=128, out_features=256, bias=True)\n",
       "        (_linear2): Linear(in_features=256, out_features=128, bias=True)\n",
       "        (act): LeakyReLU(negative_slope=0.01)\n",
       "      )\n",
       "      (_layerNorm1): LayerNorm((64,), eps=1e-05, elementwise_affine=True)\n",
       "      (_layerNorm2): LayerNorm((64,), eps=1e-05, elementwise_affine=True)\n",
       "      (_layerNorm3): LayerNorm((128,), eps=1e-05, elementwise_affine=True)\n",
       "      (_dopout): Dropout(p=0.2, inplace=False)\n",
       "    )\n",
       "  )\n",
       "  (hist_covs): ConvModule(\n",
       "    (global_conv): Conv1d(1, 2, kernel_size=(112,), stride=(1,))\n",
       "    (week_conv): Conv1d(1, 1, kernel_size=(7,), stride=(1,))\n",
       "    (last_week_conv): Conv1d(1, 1, kernel_size=(7,), stride=(1,))\n",
       "    (drop): Dropout(p=0.2, inplace=False)\n",
       "  )\n",
       "  (out): Sequential(\n",
       "    (0): Linear(in_features=237, out_features=118, bias=True)\n",
       "    (1): LeakyReLU(negative_slope=0.01)\n",
       "    (2): LayerNorm((118,), eps=1e-05, elementwise_affine=True)\n",
       "    (3): Linear(in_features=118, out_features=1, bias=True)\n",
       "  )\n",
       ")"
      ]
     },
     "execution_count": 39,
     "metadata": {},
     "output_type": "execute_result"
    }
   ],
   "source": [
    "model"
   ]
  },
  {
   "cell_type": "code",
   "execution_count": 40,
   "metadata": {
    "scrolled": true
   },
   "outputs": [
    {
     "name": "stdout",
     "output_type": "stream",
     "text": [
      "tensor(3.6505, device='cuda:0', grad_fn=<SqrtBackward>)\n",
      "tensor([[ 0.0050,  0.4040,  0.4009,  ...,  0.0900,  0.4664,  0.2797],\n",
      "        [-0.7214, -0.5164, -0.6644,  ..., -0.7101, -0.7622, -0.4803],\n",
      "        [ 0.3029,  0.4449,  0.3808,  ...,  0.4500,  0.4348,  0.5272],\n",
      "        ...,\n",
      "        [-0.3218,  0.0637,  0.2095,  ...,  0.0560,  0.1366,  0.5747],\n",
      "        [-0.2965, -0.2245, -0.4016,  ..., -0.5196, -0.4404, -0.5786],\n",
      "        [ 0.2930,  0.1033,  0.5227,  ...,  0.4866,  0.1350,  0.5427]],\n",
      "       device='cuda:0', grad_fn=<AsStridedBackward>)\n"
     ]
    }
   ],
   "source": [
    "# criterion = WRMSSE()\n",
    "criterion = RMSE()\n",
    "for i, (x, idx, y) in enumerate(train_loader):\n",
    "    out = model(x)\n",
    "#     loss = criterion(out, y, idx)\n",
    "    loss = criterion(out, y)\n",
    "    loss.backward()\n",
    "    break\n",
    "print(loss)    \n",
    "print(out)"
   ]
  },
  {
   "cell_type": "markdown",
   "metadata": {},
   "source": [
    "# Train"
   ]
  },
  {
   "cell_type": "code",
   "execution_count": 41,
   "metadata": {},
   "outputs": [],
   "source": [
    "epochs = 20\n",
    "lr = 3e-4\n",
    "# criterion = Assymetric_RMSE(penalty=1/3.5)\n",
    "# criterion = Assymetric_RMSE(penalty=3.5)\n",
    "# criterion = WRMSSE() #WARNING! RAM EXPLOSION HERE\n",
    "# criterion = RMSE_summed()\n",
    "criterion = RMSE()\n",
    "# criterion = WeightedRoll_MSE() #WARNING! RAM EXPLOSION HERE\n",
    "    \n",
    "torch.manual_seed(777)\n",
    "model = M5Transformer(d_input, d_model, d_output, q, v, h, N_e, N_d, n_months, attention_size=attention_size,\n",
    "                  dropout=dropout, chunk_mode=chunk_mode, pe=pe, n_lag_convs=n_lag_convs, e_days=e_days,\n",
    "                     d_days=d_days).to(device)\n",
    "\n",
    "optimizer = torch.optim.AdamW(model.parameters(), lr=lr)\n",
    "\n",
    "scheduler = torch.optim.lr_scheduler.CosineAnnealingWarmRestarts(\n",
    "                                            optimizer, 40, T_mult=2, \n",
    "                                            eta_min=lr/1e3, last_epoch=-1)\n",
    "\n",
    "model_name = \"seq2seq_v_final_idgaf_anymore.pth\"\n",
    "\n",
    "def save(m, fname, dirname='/home/timetraveller/Work/M5Models'):\n",
    "    with open(os.path.join(dirname, fname), 'wb') as handle:\n",
    "        pickle.dump(m, handle)\n",
    "        \n",
    "def zero_percentage(q):\n",
    "    l = len(q)\n",
    "    q = np.array(q)\n",
    "    return sum(q<1)/l"
   ]
  },
  {
   "cell_type": "code",
   "execution_count": 32,
   "metadata": {},
   "outputs": [
    {
     "name": "stdout",
     "output_type": "stream",
     "text": [
      "WARNING! Re-Initialize scheduler and optimizer.\n",
      "WARNING! Re-Initialize scheduler and optimizer.\n",
      "WARNING! Re-Initialize scheduler and optimizer.\n"
     ]
    },
    {
     "data": {
      "image/png": "[encoded data removed]",
      "text/plain": [
       "<Figure size 432x288 with 1 Axes>"
      ]
     },
     "metadata": {
      "needs_background": "light"
     },
     "output_type": "display_data"
    },
    {
     "name": "stdout",
     "output_type": "stream",
     "text": [
      "WARNING! Re-Initialize scheduler and optimizer.\n",
      "WARNING! Re-Initialize scheduler and optimizer.\n",
      "WARNING! Re-Initialize scheduler and optimizer.\n"
     ]
    }
   ],
   "source": [
    "print(\"WARNING! Re-Initialize scheduler and optimizer.\")\n",
    "print(\"WARNING! Re-Initialize scheduler and optimizer.\")\n",
    "print(\"WARNING! Re-Initialize scheduler and optimizer.\")\n",
    "lrs = []\n",
    "for epoch in range(epochs):\n",
    "    for idx in range(len(train_loader)):\n",
    "        lr = scheduler.get_lr()\n",
    "        scheduler.step(epoch + idx/len(train_loader))\n",
    "        lrs.append(lr)\n",
    "plt.plot(lrs)\n",
    "plt.show()\n",
    "print(\"WARNING! Re-Initialize scheduler and optimizer.\")\n",
    "print(\"WARNING! Re-Initialize scheduler and optimizer.\")\n",
    "print(\"WARNING! Re-Initialize scheduler and optimizer.\")"
   ]
  },
  {
   "cell_type": "code",
   "execution_count": 42,
   "metadata": {
    "code_folding": [],
    "scrolled": true
   },
   "outputs": [
    {
     "data": {
      "application/vnd.jupyter.widget-view+json": {
       "model_id": "ef33b7a65edb4646b0ca98974e58e55b",
       "version_major": 2,
       "version_minor": 0
      },
      "text/plain": [
       "HBox(children=(IntProgress(value=0, max=20), HTML(value='')))"
      ]
     },
     "metadata": {},
     "output_type": "display_data"
    },
    {
     "data": {
      "application/vnd.jupyter.widget-view+json": {
       "model_id": "26be6ecfc7d5424a83570e53c93c0cc1",
       "version_major": 2,
       "version_minor": 0
      },
      "text/plain": [
       "HBox(children=(IntProgress(value=0, max=33349), HTML(value='')))"
      ]
     },
     "metadata": {},
     "output_type": "display_data"
    },
    {
     "name": "stdout",
     "output_type": "stream",
     "text": [
      "\n",
      "[Train] Epoch: 0 | Loss: 2.1170 | RMSE: 2.1170\n",
      "[Valid] Epoch: 0 | Loss: 1.9790 | RMSE: 2.2025 | zc: (0.681/0.544) | wrmsse: 1.0331\n",
      "[1.1579182  0.15811094 0.08002508 0.2553747  0.1706825  0.18878523\n",
      " 0.21044599 0.24284018 0.2761703  0.31034526 0.34482764 0.37931035]\n"
     ]
    },
    {
     "data": {
      "application/vnd.jupyter.widget-view+json": {
       "model_id": "1b70f554275f47e9bcf503802af21059",
       "version_major": 2,
       "version_minor": 0
      },
      "text/plain": [
       "HBox(children=(IntProgress(value=0, max=33349), HTML(value='')))"
      ]
     },
     "metadata": {},
     "output_type": "display_data"
    },
    {
     "name": "stdout",
     "output_type": "stream",
     "text": [
      "\n",
      "[Train] Epoch: 1 | Loss: 2.0031 | RMSE: 2.0031\n",
      "[Valid] Epoch: 1 | Loss: 2.0021 | RMSE: 2.2500 | zc: (0.662/0.544) | wrmsse: 0.7804\n",
      "[0.48888717 0.09106346 0.07473335 0.18044752 0.15540609 0.18143039\n",
      " 0.20896878 0.24231911 0.2760761  0.31034526 0.34482764 0.37931035]\n"
     ]
    },
    {
     "data": {
      "application/vnd.jupyter.widget-view+json": {
       "model_id": "f83d1d96843e45ec86a36f93269c1f71",
       "version_major": 2,
       "version_minor": 0
      },
      "text/plain": [
       "HBox(children=(IntProgress(value=0, max=33349), HTML(value='')))"
      ]
     },
     "metadata": {},
     "output_type": "display_data"
    },
    {
     "name": "stdout",
     "output_type": "stream",
     "text": [
      "\n",
      "[Train] Epoch: 2 | Loss: 1.9548 | RMSE: 1.9548\n",
      "[Valid] Epoch: 2 | Loss: 2.0199 | RMSE: 2.2830 | zc: (0.667/0.544) | wrmsse: 0.7977\n",
      "[0.4578484  0.08861425 0.07512995 0.17143718 0.15516279 0.18067031\n",
      " 0.20897416 0.24229652 0.27608553 0.31034528 0.34482764 0.37931035]\n"
     ]
    },
    {
     "data": {
      "application/vnd.jupyter.widget-view+json": {
       "model_id": "0c51651528c04e5f8f1301ff1d6c8b6a",
       "version_major": 2,
       "version_minor": 0
      },
      "text/plain": [
       "HBox(children=(IntProgress(value=0, max=33349), HTML(value='')))"
      ]
     },
     "metadata": {},
     "output_type": "display_data"
    },
    {
     "name": "stdout",
     "output_type": "stream",
     "text": [
      "\n",
      "[Train] Epoch: 3 | Loss: 1.9197 | RMSE: 1.9197\n",
      "[Valid] Epoch: 3 | Loss: 2.0032 | RMSE: 2.2530 | zc: (0.683/0.544) | wrmsse: 0.9211\n",
      "[0.90910136 0.13283928 0.07782965 0.23260129 0.16412324 0.18642994\n",
      " 0.20983462 0.24266129 0.27612803 0.31034525 0.34482764 0.37931035]\n"
     ]
    },
    {
     "data": {
      "application/vnd.jupyter.widget-view+json": {
       "model_id": "0c1422df74284396892c3191b722dba1",
       "version_major": 2,
       "version_minor": 0
      },
      "text/plain": [
       "HBox(children=(IntProgress(value=0, max=33349), HTML(value='')))"
      ]
     },
     "metadata": {},
     "output_type": "display_data"
    },
    {
     "name": "stdout",
     "output_type": "stream",
     "text": [
      "\n",
      "[Train] Epoch: 4 | Loss: 1.8940 | RMSE: 1.8940\n",
      "[Valid] Epoch: 4 | Loss: 2.0186 | RMSE: 2.2806 | zc: (0.667/0.544) | wrmsse: 0.7959\n",
      "[0.54420638 0.09642776 0.07504975 0.19241398 0.15696328 0.18258707\n",
      " 0.20912265 0.24240243 0.27608374 0.31034529 0.34482765 0.37931035]\n"
     ]
    },
    {
     "data": {
      "application/vnd.jupyter.widget-view+json": {
       "model_id": "9838dfeffb524059a5993e1865008d7c",
       "version_major": 2,
       "version_minor": 0
      },
      "text/plain": [
       "HBox(children=(IntProgress(value=0, max=33349), HTML(value='')))"
      ]
     },
     "metadata": {},
     "output_type": "display_data"
    },
    {
     "name": "stdout",
     "output_type": "stream",
     "text": [
      "\n",
      "[Train] Epoch: 5 | Loss: 1.8721 | RMSE: 1.8721\n",
      "[Valid] Epoch: 5 | Loss: 2.0176 | RMSE: 2.2865 | zc: (0.669/0.544) | wrmsse: 0.7466\n",
      "[0.41129691 0.08698823 0.07419389 0.16503502 0.15238094 0.18024745\n",
      " 0.20875739 0.24218335 0.27605427 0.31034525 0.34482764 0.37931035]\n"
     ]
    },
    {
     "data": {
      "application/vnd.jupyter.widget-view+json": {
       "model_id": "c9a720a938cc4f7685ad99be62e217f6",
       "version_major": 2,
       "version_minor": 0
      },
      "text/plain": [
       "HBox(children=(IntProgress(value=0, max=33349), HTML(value='')))"
      ]
     },
     "metadata": {},
     "output_type": "display_data"
    },
    {
     "name": "stdout",
     "output_type": "stream",
     "text": [
      "\n",
      "[Train] Epoch: 6 | Loss: 1.8532 | RMSE: 1.8532\n",
      "[Valid] Epoch: 6 | Loss: 2.0310 | RMSE: 2.3069 | zc: (0.642/0.544) | wrmsse: 0.7357\n",
      "[0.29413998 0.07232341 0.07310855 0.1657262  0.15346628 0.17991379\n",
      " 0.20875502 0.24217743 0.27605491 0.31034527 0.34482765 0.37931035]\n"
     ]
    },
    {
     "data": {
      "application/vnd.jupyter.widget-view+json": {
       "model_id": "e4b6773541d44e12a3a3a3efef8183f4",
       "version_major": 2,
       "version_minor": 0
      },
      "text/plain": [
       "HBox(children=(IntProgress(value=0, max=33349), HTML(value='')))"
      ]
     },
     "metadata": {},
     "output_type": "display_data"
    },
    {
     "name": "stdout",
     "output_type": "stream",
     "text": [
      "\n",
      "[Train] Epoch: 7 | Loss: 1.8354 | RMSE: 1.8354\n",
      "[Valid] Epoch: 7 | Loss: 2.0021 | RMSE: 2.2508 | zc: (0.668/0.544) | wrmsse: 0.7919\n",
      "[0.53524945 0.09749397 0.07490881 0.18712834 0.15542768 0.18212665\n",
      " 0.20899464 0.24232787 0.27606932 0.31034526 0.34482764 0.37931035]\n"
     ]
    },
    {
     "data": {
      "application/vnd.jupyter.widget-view+json": {
       "model_id": "a43f3a9a57364cacbdbb136871b1e95f",
       "version_major": 2,
       "version_minor": 0
      },
      "text/plain": [
       "HBox(children=(IntProgress(value=0, max=33349), HTML(value='')))"
      ]
     },
     "metadata": {},
     "output_type": "display_data"
    },
    {
     "name": "stdout",
     "output_type": "stream",
     "text": [
      "\n",
      "[Train] Epoch: 8 | Loss: 1.8204 | RMSE: 1.8204\n",
      "[Valid] Epoch: 8 | Loss: 1.9957 | RMSE: 2.2422 | zc: (0.662/0.544) | wrmsse: 0.7042\n",
      "[0.32209683 0.07582664 0.07323563 0.15563203 0.15049031 0.17891967\n",
      " 0.20849207 0.24207676 0.27603211 0.31034525 0.34482764 0.37931035]\n"
     ]
    },
    {
     "data": {
      "application/vnd.jupyter.widget-view+json": {
       "model_id": "f4d993a54abf4eee8cba94882bfdf7ce",
       "version_major": 2,
       "version_minor": 0
      },
      "text/plain": [
       "HBox(children=(IntProgress(value=0, max=33349), HTML(value='')))"
      ]
     },
     "metadata": {},
     "output_type": "display_data"
    },
    {
     "name": "stdout",
     "output_type": "stream",
     "text": [
      "\n",
      "[Train] Epoch: 9 | Loss: 1.8077 | RMSE: 1.8077\n",
      "[Valid] Epoch: 9 | Loss: 2.0226 | RMSE: 2.2827 | zc: (0.660/0.544) | wrmsse: 0.7022\n",
      "[0.33683071 0.07418703 0.07332257 0.16066741 0.15008643 0.17919901\n",
      " 0.20839387 0.24213601 0.27602875 0.31034529 0.34482765 0.37931035]\n"
     ]
    },
    {
     "data": {
      "application/vnd.jupyter.widget-view+json": {
       "model_id": "72fd3a9c9ea5435891b4e47f4664049b",
       "version_major": 2,
       "version_minor": 0
      },
      "text/plain": [
       "HBox(children=(IntProgress(value=0, max=33349), HTML(value='')))"
      ]
     },
     "metadata": {},
     "output_type": "display_data"
    },
    {
     "name": "stdout",
     "output_type": "stream",
     "text": [
      "\n",
      "[Train] Epoch: 10 | Loss: 1.7957 | RMSE: 1.7957\n",
      "[Valid] Epoch: 10 | Loss: 2.0291 | RMSE: 2.2922 | zc: (0.652/0.544) | wrmsse: 0.6524\n",
      "[0.18550306 0.06244943 0.07238823 0.13240341 0.14782863 0.17688602\n",
      " 0.20825446 0.24194727 0.27602168 0.31034531 0.34482765 0.37931035]\n"
     ]
    },
    {
     "data": {
      "application/vnd.jupyter.widget-view+json": {
       "model_id": "8cea528111884fba99969b857f586c6d",
       "version_major": 2,
       "version_minor": 0
      },
      "text/plain": [
       "HBox(children=(IntProgress(value=0, max=33349), HTML(value='')))"
      ]
     },
     "metadata": {},
     "output_type": "display_data"
    },
    {
     "name": "stdout",
     "output_type": "stream",
     "text": [
      "\n",
      "[Train] Epoch: 11 | Loss: 1.7848 | RMSE: 1.7848\n",
      "[Valid] Epoch: 11 | Loss: 2.0225 | RMSE: 2.2830 | zc: (0.663/0.544) | wrmsse: 0.6959\n",
      "[0.30637245 0.07180109 0.07326256 0.14690618 0.14872393 0.17789609\n",
      " 0.20828339 0.24203771 0.27602591 0.31034528 0.34482764 0.37931035]\n"
     ]
    },
    {
     "data": {
      "application/vnd.jupyter.widget-view+json": {
       "model_id": "9669d8f08c9f40708cc798a01c089067",
       "version_major": 2,
       "version_minor": 0
      },
      "text/plain": [
       "HBox(children=(IntProgress(value=0, max=33349), HTML(value='')))"
      ]
     },
     "metadata": {},
     "output_type": "display_data"
    },
    {
     "name": "stdout",
     "output_type": "stream",
     "text": [
      "\n",
      "[Train] Epoch: 12 | Loss: 1.7743 | RMSE: 1.7743\n",
      "[Valid] Epoch: 12 | Loss: 2.0092 | RMSE: 2.2569 | zc: (0.695/0.544) | wrmsse: 0.9408\n",
      "[0.94366666 0.13275804 0.07811376 0.22634198 0.16262355 0.18546264\n",
      " 0.20958897 0.24263604 0.27611929 0.31034525 0.34482764 0.37931035]\n"
     ]
    },
    {
     "data": {
      "application/vnd.jupyter.widget-view+json": {
       "model_id": "b10ebf84c3c44f58a3e1e7969adaf5be",
       "version_major": 2,
       "version_minor": 0
      },
      "text/plain": [
       "HBox(children=(IntProgress(value=0, max=33349), HTML(value='')))"
      ]
     },
     "metadata": {},
     "output_type": "display_data"
    },
    {
     "name": "stdout",
     "output_type": "stream",
     "text": [
      "\n",
      "[Train] Epoch: 13 | Loss: 1.7645 | RMSE: 1.7645\n",
      "[Valid] Epoch: 13 | Loss: 2.0284 | RMSE: 2.2969 | zc: (0.668/0.544) | wrmsse: 0.7246\n",
      "[0.38644668 0.07874638 0.07385492 0.1607814  0.15052237 0.17916846\n",
      " 0.20843449 0.24215371 0.27603731 0.31034528 0.34482765 0.37931035]\n"
     ]
    },
    {
     "data": {
      "application/vnd.jupyter.widget-view+json": {
       "model_id": "f6ecc9bd116247e9bb9756d57495089e",
       "version_major": 2,
       "version_minor": 0
      },
      "text/plain": [
       "HBox(children=(IntProgress(value=0, max=33349), HTML(value='')))"
      ]
     },
     "metadata": {},
     "output_type": "display_data"
    },
    {
     "name": "stdout",
     "output_type": "stream",
     "text": [
      "\n",
      "[Train] Epoch: 14 | Loss: 1.7561 | RMSE: 1.7561\n",
      "[Valid] Epoch: 14 | Loss: 2.0321 | RMSE: 2.2937 | zc: (0.685/0.544) | wrmsse: 0.8798\n",
      "[0.77133101 0.11858176 0.07676905 0.20863756 0.15971302 0.1838062\n",
      " 0.20934928 0.24246237 0.27609419 0.31034526 0.34482764 0.37931035]\n"
     ]
    },
    {
     "data": {
      "application/vnd.jupyter.widget-view+json": {
       "model_id": "f147cb260f974e8fb6a2c0f4ffdf8d68",
       "version_major": 2,
       "version_minor": 0
      },
      "text/plain": [
       "HBox(children=(IntProgress(value=0, max=33349), HTML(value='')))"
      ]
     },
     "metadata": {},
     "output_type": "display_data"
    },
    {
     "name": "stdout",
     "output_type": "stream",
     "text": [
      "\n",
      "[Train] Epoch: 15 | Loss: 1.7477 | RMSE: 1.7477\n",
      "[Valid] Epoch: 15 | Loss: 2.0335 | RMSE: 2.3015 | zc: (0.658/0.544) | wrmsse: 0.6995\n",
      "[0.29977743 0.07272608 0.07294447 0.15700133 0.15042087 0.17900942\n",
      " 0.20847455 0.24208795 0.27603272 0.3103453  0.34482765 0.37931035]\n"
     ]
    },
    {
     "data": {
      "application/vnd.jupyter.widget-view+json": {
       "model_id": "111e1448be714b0b9a2bd6fd8540e49a",
       "version_major": 2,
       "version_minor": 0
      },
      "text/plain": [
       "HBox(children=(IntProgress(value=0, max=33349), HTML(value='')))"
      ]
     },
     "metadata": {},
     "output_type": "display_data"
    },
    {
     "ename": "KeyboardInterrupt",
     "evalue": "",
     "output_type": "error",
     "traceback": [
      "\u001b[0;31m---------------------------------------------------------------------------\u001b[0m",
      "\u001b[0;31mKeyboardInterrupt\u001b[0m                         Traceback (most recent call last)",
      "\u001b[0;32m<ipython-input-42-2e92fa04a6e9>\u001b[0m in \u001b[0;36m<module>\u001b[0;34m\u001b[0m\n\u001b[1;32m     14\u001b[0m     \u001b[0;32mfor\u001b[0m \u001b[0mi\u001b[0m\u001b[0;34m,\u001b[0m \u001b[0;34m(\u001b[0m\u001b[0mx\u001b[0m\u001b[0;34m,\u001b[0m \u001b[0midx\u001b[0m\u001b[0;34m,\u001b[0m \u001b[0my\u001b[0m\u001b[0;34m)\u001b[0m \u001b[0;32min\u001b[0m \u001b[0menumerate\u001b[0m\u001b[0;34m(\u001b[0m\u001b[0mbar\u001b[0m\u001b[0;34m)\u001b[0m\u001b[0;34m:\u001b[0m\u001b[0;34m\u001b[0m\u001b[0;34m\u001b[0m\u001b[0m\n\u001b[1;32m     15\u001b[0m         \u001b[0moptimizer\u001b[0m\u001b[0;34m.\u001b[0m\u001b[0mzero_grad\u001b[0m\u001b[0;34m(\u001b[0m\u001b[0;34m)\u001b[0m\u001b[0;34m\u001b[0m\u001b[0;34m\u001b[0m\u001b[0m\n\u001b[0;32m---> 16\u001b[0;31m         \u001b[0mout\u001b[0m \u001b[0;34m=\u001b[0m \u001b[0mmodel\u001b[0m\u001b[0;34m(\u001b[0m\u001b[0mx\u001b[0m\u001b[0;34m)\u001b[0m\u001b[0;34m\u001b[0m\u001b[0;34m\u001b[0m\u001b[0m\n\u001b[0m\u001b[1;32m     17\u001b[0m \u001b[0;31m#         loss = criterion(out, y, idx)\u001b[0m\u001b[0;34m\u001b[0m\u001b[0;34m\u001b[0m\u001b[0;34m\u001b[0m\u001b[0m\n\u001b[1;32m     18\u001b[0m         \u001b[0mloss\u001b[0m \u001b[0;34m=\u001b[0m \u001b[0mcriterion\u001b[0m\u001b[0;34m(\u001b[0m\u001b[0mout\u001b[0m\u001b[0;34m,\u001b[0m \u001b[0my\u001b[0m\u001b[0;34m)\u001b[0m\u001b[0;34m\u001b[0m\u001b[0;34m\u001b[0m\u001b[0m\n",
      "\u001b[0;32m~/miniconda3/lib/python3.7/site-packages/torch/nn/modules/module.py\u001b[0m in \u001b[0;36m__call__\u001b[0;34m(self, *input, **kwargs)\u001b[0m\n\u001b[1;32m    539\u001b[0m             \u001b[0mresult\u001b[0m \u001b[0;34m=\u001b[0m \u001b[0mself\u001b[0m\u001b[0;34m.\u001b[0m\u001b[0m_slow_forward\u001b[0m\u001b[0;34m(\u001b[0m\u001b[0;34m*\u001b[0m\u001b[0minput\u001b[0m\u001b[0;34m,\u001b[0m \u001b[0;34m**\u001b[0m\u001b[0mkwargs\u001b[0m\u001b[0;34m)\u001b[0m\u001b[0;34m\u001b[0m\u001b[0;34m\u001b[0m\u001b[0m\n\u001b[1;32m    540\u001b[0m         \u001b[0;32melse\u001b[0m\u001b[0;34m:\u001b[0m\u001b[0;34m\u001b[0m\u001b[0;34m\u001b[0m\u001b[0m\n\u001b[0;32m--> 541\u001b[0;31m             \u001b[0mresult\u001b[0m \u001b[0;34m=\u001b[0m \u001b[0mself\u001b[0m\u001b[0;34m.\u001b[0m\u001b[0mforward\u001b[0m\u001b[0;34m(\u001b[0m\u001b[0;34m*\u001b[0m\u001b[0minput\u001b[0m\u001b[0;34m,\u001b[0m \u001b[0;34m**\u001b[0m\u001b[0mkwargs\u001b[0m\u001b[0;34m)\u001b[0m\u001b[0;34m\u001b[0m\u001b[0;34m\u001b[0m\u001b[0m\n\u001b[0m\u001b[1;32m    542\u001b[0m         \u001b[0;32mfor\u001b[0m \u001b[0mhook\u001b[0m \u001b[0;32min\u001b[0m \u001b[0mself\u001b[0m\u001b[0;34m.\u001b[0m\u001b[0m_forward_hooks\u001b[0m\u001b[0;34m.\u001b[0m\u001b[0mvalues\u001b[0m\u001b[0;34m(\u001b[0m\u001b[0;34m)\u001b[0m\u001b[0;34m:\u001b[0m\u001b[0;34m\u001b[0m\u001b[0;34m\u001b[0m\u001b[0m\n\u001b[1;32m    543\u001b[0m             \u001b[0mhook_result\u001b[0m \u001b[0;34m=\u001b[0m \u001b[0mhook\u001b[0m\u001b[0;34m(\u001b[0m\u001b[0mself\u001b[0m\u001b[0;34m,\u001b[0m \u001b[0minput\u001b[0m\u001b[0;34m,\u001b[0m \u001b[0mresult\u001b[0m\u001b[0;34m)\u001b[0m\u001b[0;34m\u001b[0m\u001b[0;34m\u001b[0m\u001b[0m\n",
      "\u001b[0;32m<ipython-input-36-8dc52bf2774d>\u001b[0m in \u001b[0;36mforward\u001b[0;34m(self, x)\u001b[0m\n\u001b[1;32m    127\u001b[0m         \u001b[0mencoder_input\u001b[0m \u001b[0;34m=\u001b[0m \u001b[0mself\u001b[0m\u001b[0;34m.\u001b[0m\u001b[0membed_and_combine\u001b[0m\u001b[0;34m(\u001b[0m\u001b[0me_cont\u001b[0m\u001b[0;34m,\u001b[0m \u001b[0me_cat\u001b[0m\u001b[0;34m,\u001b[0m \u001b[0me_lag\u001b[0m\u001b[0;34m)\u001b[0m \u001b[0;31m#(bs, etime, d_inp)\u001b[0m\u001b[0;34m\u001b[0m\u001b[0;34m\u001b[0m\u001b[0m\n\u001b[1;32m    128\u001b[0m         \u001b[0mencoder_input\u001b[0m \u001b[0;34m=\u001b[0m \u001b[0mself\u001b[0m\u001b[0;34m.\u001b[0m\u001b[0m_e_inp_norm\u001b[0m\u001b[0;34m(\u001b[0m\u001b[0mencoder_input\u001b[0m\u001b[0;34m)\u001b[0m\u001b[0;34m\u001b[0m\u001b[0;34m\u001b[0m\u001b[0m\n\u001b[0;32m--> 129\u001b[0;31m         \u001b[0mdecoder_input\u001b[0m \u001b[0;34m=\u001b[0m \u001b[0mself\u001b[0m\u001b[0;34m.\u001b[0m\u001b[0membed_and_combine\u001b[0m\u001b[0;34m(\u001b[0m\u001b[0md_cont\u001b[0m\u001b[0;34m,\u001b[0m \u001b[0md_cat\u001b[0m\u001b[0;34m,\u001b[0m \u001b[0md_lag\u001b[0m\u001b[0;34m)\u001b[0m \u001b[0;31m#(bs, etime, d_inp-1)\u001b[0m\u001b[0;34m\u001b[0m\u001b[0;34m\u001b[0m\u001b[0m\n\u001b[0m\u001b[1;32m    130\u001b[0m         \u001b[0mdecoder_input\u001b[0m \u001b[0;34m=\u001b[0m \u001b[0mself\u001b[0m\u001b[0;34m.\u001b[0m\u001b[0m_d_inp_norm\u001b[0m\u001b[0;34m(\u001b[0m\u001b[0mdecoder_input\u001b[0m\u001b[0;34m)\u001b[0m\u001b[0;34m\u001b[0m\u001b[0;34m\u001b[0m\u001b[0m\n\u001b[1;32m    131\u001b[0m \u001b[0;34m\u001b[0m\u001b[0m\n",
      "\u001b[0;32m<ipython-input-36-8dc52bf2774d>\u001b[0m in \u001b[0;36membed_and_combine\u001b[0;34m(self, cont, cat, lag)\u001b[0m\n\u001b[1;32m    113\u001b[0m         \u001b[0mcat\u001b[0m \u001b[0;34m=\u001b[0m \u001b[0mcat\u001b[0m\u001b[0;34m.\u001b[0m\u001b[0mtype\u001b[0m\u001b[0;34m(\u001b[0m\u001b[0mtorch\u001b[0m\u001b[0;34m.\u001b[0m\u001b[0mLongTensor\u001b[0m\u001b[0;34m)\u001b[0m\u001b[0;34m.\u001b[0m\u001b[0mto\u001b[0m\u001b[0;34m(\u001b[0m\u001b[0mdevice\u001b[0m\u001b[0;34m)\u001b[0m\u001b[0;34m\u001b[0m\u001b[0;34m\u001b[0m\u001b[0m\n\u001b[1;32m    114\u001b[0m         \u001b[0mcont\u001b[0m \u001b[0;34m=\u001b[0m \u001b[0mcont\u001b[0m\u001b[0;34m.\u001b[0m\u001b[0mtype\u001b[0m\u001b[0;34m(\u001b[0m\u001b[0mtorch\u001b[0m\u001b[0;34m.\u001b[0m\u001b[0mFloatTensor\u001b[0m\u001b[0;34m)\u001b[0m\u001b[0;34m.\u001b[0m\u001b[0mto\u001b[0m\u001b[0;34m(\u001b[0m\u001b[0mdevice\u001b[0m\u001b[0;34m)\u001b[0m\u001b[0;34m\u001b[0m\u001b[0;34m\u001b[0m\u001b[0m\n\u001b[0;32m--> 115\u001b[0;31m         \u001b[0mlag\u001b[0m \u001b[0;34m=\u001b[0m \u001b[0mlag\u001b[0m\u001b[0;34m.\u001b[0m\u001b[0mtype\u001b[0m\u001b[0;34m(\u001b[0m\u001b[0mtorch\u001b[0m\u001b[0;34m.\u001b[0m\u001b[0mFloatTensor\u001b[0m\u001b[0;34m)\u001b[0m\u001b[0;34m.\u001b[0m\u001b[0mto\u001b[0m\u001b[0;34m(\u001b[0m\u001b[0mdevice\u001b[0m\u001b[0;34m)\u001b[0m\u001b[0;34m\u001b[0m\u001b[0;34m\u001b[0m\u001b[0m\n\u001b[0m\u001b[1;32m    116\u001b[0m         \u001b[0mxcat\u001b[0m \u001b[0;34m=\u001b[0m \u001b[0;34m[\u001b[0m\u001b[0mel\u001b[0m\u001b[0;34m(\u001b[0m\u001b[0mcat\u001b[0m\u001b[0;34m[\u001b[0m\u001b[0;34m:\u001b[0m\u001b[0;34m,\u001b[0m \u001b[0;34m:\u001b[0m\u001b[0;34m,\u001b[0m \u001b[0mk\u001b[0m\u001b[0;34m]\u001b[0m\u001b[0;34m)\u001b[0m \u001b[0;32mfor\u001b[0m \u001b[0mk\u001b[0m\u001b[0;34m,\u001b[0m \u001b[0mel\u001b[0m \u001b[0;32min\u001b[0m \u001b[0menumerate\u001b[0m\u001b[0;34m(\u001b[0m\u001b[0mself\u001b[0m\u001b[0;34m.\u001b[0m\u001b[0memb_layers\u001b[0m\u001b[0;34m)\u001b[0m\u001b[0;34m]\u001b[0m\u001b[0;34m\u001b[0m\u001b[0;34m\u001b[0m\u001b[0m\n\u001b[1;32m    117\u001b[0m         \u001b[0mxcat\u001b[0m \u001b[0;34m=\u001b[0m \u001b[0mtorch\u001b[0m\u001b[0;34m.\u001b[0m\u001b[0mcat\u001b[0m\u001b[0;34m(\u001b[0m\u001b[0mxcat\u001b[0m\u001b[0;34m,\u001b[0m \u001b[0maxis\u001b[0m\u001b[0;34m=\u001b[0m\u001b[0;36m2\u001b[0m\u001b[0;34m)\u001b[0m\u001b[0;34m\u001b[0m\u001b[0;34m\u001b[0m\u001b[0m\n",
      "\u001b[0;31mKeyboardInterrupt\u001b[0m: "
     ]
    }
   ],
   "source": [
    "train_zc, val_zc = None, None\n",
    "train_losses = []\n",
    "val_losses = []\n",
    "train_wrmsses = []\n",
    "val_wrmsses = []\n",
    "\n",
    "for epoch in tqdm(range(epochs)):\n",
    "    train_loss, val_loss = 0, 0\n",
    "    train_rmse = 0\n",
    "    #Training phase\n",
    "    ypreds = [] \n",
    "    ytrue = []\n",
    "    bar = tqdm(train_loader)\n",
    "    for i, (x, idx, y) in enumerate(bar):\n",
    "        optimizer.zero_grad()\n",
    "        out = model(x)\n",
    "#         loss = criterion(out, y, idx)   \n",
    "        loss = criterion(out, y)   \n",
    "        loss.backward()\n",
    "        optimizer.step()\n",
    "        scheduler.step(epoch + i/len(train_loader))\n",
    "        \n",
    "        with torch.no_grad():\n",
    "            train_loss += loss.item()/len(train_loader)\n",
    "            ypreds = out.detach().cpu().numpy().flatten()\n",
    "            ytrue = y.cpu().numpy().flatten()\n",
    "            train_rmse += rmse_metric_npy(ypreds, ytrue)/len(train_loader)\n",
    "            bar.set_description(f\"{loss.item():.3f}\")\n",
    "    \n",
    "    train_wrmsse = 0.5 #whatever\n",
    "    print(f\"[Train] Epoch: {epoch} | Loss: {train_loss:.4f} | RMSE: {train_rmse:.4f}\")\n",
    "    \n",
    "    #Validation phase      \n",
    "    with torch.no_grad():\n",
    "                ytrue = []\n",
    "                ypreds = []\n",
    "\n",
    "                for i, (x, idx, y) in enumerate(val_loader):                \n",
    "                    out = model(x)\n",
    "#                     loss = criterion(out, y, idx)   \n",
    "                    loss = criterion(out, y)   \n",
    "                    val_loss += loss.item()/len(val_loader)\n",
    "                    ypreds += list(out.detach().cpu().numpy().flatten())\n",
    "                    ytrue += list(y.cpu().numpy().flatten())\n",
    "\n",
    "                rrmse = rmse_metric(ypreds, ytrue)\n",
    "                val_wrmsse, lws = wrmsse_metric(ypreds, ytrue, roll_mat_csr=roll_mat_csr, sw=sw, score_only=False)\n",
    "\n",
    "                if val_zc is None:\n",
    "                    val_zc = zero_percentage(ytrue) \n",
    "                zc = zero_percentage(ypreds)\n",
    "\n",
    "                print(f\"[Valid] Epoch: {epoch} | Loss: {val_loss:.4f} | RMSE: {rrmse:.4f} | zc: ({zc:.3f}/{val_zc:.3f}) | wrmsse: {val_wrmsse:.4f}\")\n",
    "                print(lws)\n",
    "\n",
    "    train_losses.append(train_loss)    \n",
    "    val_losses.append(val_loss)     \n",
    "    train_wrmsses.append(train_wrmsse)\n",
    "    val_wrmsses.append(val_wrmsse)\n",
    "    save(model, f\"{model_name}_{epoch}\")"
   ]
  },
  {
   "cell_type": "code",
   "execution_count": 43,
   "metadata": {},
   "outputs": [],
   "source": [
    "# [Train] Epoch: 0 | Loss: 2.7182 | RMSE: 2.9797 | zc: (0.640/0.563) | wrmsse: 0.5000\n",
    "# [Valid] Epoch: 0 | Loss: 2.3442 | RMSE: 2.8169 | zc: (0.684/0.544) | wrmsse: 1.3076\n",
    "# [2.10753578 0.25993714 0.08958656 0.45471797 0.21192379 0.20922057\n",
    "#  0.21467227 0.2447319  0.27654522 0.31034609 0.34482775 0.37931036]\n",
    "\n",
    "# 1.474: 100%\n",
    "# 239/239 [01:31<00:00, 2.60it/s]\n",
    "\n",
    "\n",
    "# [Train] Epoch: 1 | Loss: 2.4495 | RMSE: 2.6683 | zc: (0.659/0.563) | wrmsse: 0.5000\n",
    "# [Valid] Epoch: 1 | Loss: 2.2380 | RMSE: 2.6480 | zc: (0.606/0.544) | wrmsse: 1.0710\n",
    "# [0.95436476 0.14874324 0.07970559 0.26767532 0.18002803 0.191739\n",
    "#  0.21161642 0.24324118 0.2762905  0.31034575 0.34482771 0.37931036]\n",
    "\n",
    "# 1.565: 100%\n",
    "# 239/239 [06:18<00:00, 1.59s/it]\n",
    "\n",
    "\n",
    "# [Train] Epoch: 2 | Loss: 2.3338 | RMSE: 2.5162 | zc: (0.660/0.563) | wrmsse: 0.5000\n",
    "# [Valid] Epoch: 2 | Loss: 2.1796 | RMSE: 2.5528 | zc: (0.694/0.544) | wrmsse: 1.2141\n",
    "# [1.82708573 0.22902348 0.08625057 0.36194384 0.19074095 0.19988401\n",
    "#  0.21254641 0.24382938 0.27635083 0.3103456  0.34482769 0.37931036]\n",
    "\n",
    "# 1.582: 100%\n",
    "# 239/239 [01:39<00:00, 2.41it/s]\n",
    "\n",
    "\n",
    "# [Train] Epoch: 3 | Loss: 2.2453 | RMSE: 2.4197 | zc: (0.662/0.563) | wrmsse: 0.5000\n",
    "# [Valid] Epoch: 3 | Loss: 2.1339 | RMSE: 2.4776 | zc: (0.643/0.544) | wrmsse: 0.8956\n",
    "# [0.56030379 0.10468518 0.07631914 0.20161134 0.16246963 0.18462395\n",
    "#  0.20983267 0.24266924 0.27615998 0.31034544 0.34482767 0.37931036]\n",
    "\n",
    "# 1.370: 100%\n",
    "# 239/239 [03:04<00:00, 1.30it/s]\n",
    "\n",
    "\n",
    "# [Train] Epoch: 4 | Loss: 2.1952 | RMSE: 2.3458 | zc: (0.665/0.563) | wrmsse: 0.5000\n",
    "# [Valid] Epoch: 4 | Loss: 2.1111 | RMSE: 2.4347 | zc: (0.684/0.544) | wrmsse: 1.0589\n",
    "# [1.18325934 0.162551   0.08152355 0.26652444 0.17225429 0.19027757\n",
    "#  0.21067981 0.24313821 0.27622338 0.31034541 0.34482767 0.37931035]\n",
    "\n",
    "# 1.974: 100%\n",
    "# 239/239 [01:28<00:00, 2.71it/s]\n",
    "\n",
    "\n",
    "# [Train] Epoch: 5 | Loss: 2.1581 | RMSE: 2.3025 | zc: (0.663/0.563) | wrmsse: 0.5000\n",
    "# [Valid] Epoch: 5 | Loss: 2.0924 | RMSE: 2.4039 | zc: (0.662/0.544) | wrmsse: 0.9011\n",
    "# [0.6532173  0.11190976 0.0772809  0.21625822 0.16256436 0.18559452\n",
    "#  0.20978355 0.2427701  0.27616014 0.31034542 0.34482767 0.37931035]\n",
    "\n",
    "# 1.957: 92%\n",
    "# 219/239 [00:56<00:04, 4.01it/s]"
   ]
  },
  {
   "cell_type": "code",
   "execution_count": 44,
   "metadata": {},
   "outputs": [
    {
     "data": {
      "image/png": "[encoded data removed]",
      "text/plain": [
       "<Figure size 432x288 with 1 Axes>"
      ]
     },
     "metadata": {
      "needs_background": "light"
     },
     "output_type": "display_data"
    }
   ],
   "source": [
    "plt.plot(train_losses)\n",
    "plt.plot(val_losses)\n",
    "plt.show()"
   ]
  },
  {
   "cell_type": "code",
   "execution_count": 45,
   "metadata": {},
   "outputs": [
    {
     "data": {
      "image/png": "[encoded data removed]",
      "text/plain": [
       "<Figure size 432x288 with 1 Axes>"
      ]
     },
     "metadata": {
      "needs_background": "light"
     },
     "output_type": "display_data"
    }
   ],
   "source": [
    "plt.plot(train_wrmsses)\n",
    "plt.plot(val_wrmsses)\n",
    "plt.show()"
   ]
  },
  {
   "cell_type": "markdown",
   "metadata": {},
   "source": [
    "# Get preds"
   ]
  },
  {
   "cell_type": "code",
   "execution_count": 46,
   "metadata": {
    "code_folding": []
   },
   "outputs": [
    {
     "data": {
      "application/vnd.jupyter.widget-view+json": {
       "model_id": "0dee6e9f96f4402d9b03002797c02b37",
       "version_major": 2,
       "version_minor": 0
      },
      "text/plain": [
       "HBox(children=(IntProgress(value=0, max=239), HTML(value='')))"
      ]
     },
     "metadata": {},
     "output_type": "display_data"
    },
    {
     "name": "stdout",
     "output_type": "stream",
     "text": [
      "\n",
      "[Valid] Epoch: 16 | Loss: 2.0186 | RMSE: 2.2705 | zc: (0.663/0.544) | wrmsse: 0.6744\n"
     ]
    }
   ],
   "source": [
    "with torch.no_grad():\n",
    "            ytrue = []\n",
    "            ypreds = []\n",
    "            \n",
    "            for i, (x, idx, y) in enumerate(tqdm(val_loader)):                \n",
    "                out = model(x)\n",
    "#                 loss = criterion(out, y, i)   \n",
    "                loss = criterion(out, y)   \n",
    "                val_loss += loss.item()/len(val_loader)\n",
    "                ypreds += list(out.detach().cpu().numpy().flatten())\n",
    "                ytrue += list(y.cpu().numpy().flatten())\n",
    "                \n",
    "            rrmse = rmse_metric(ypreds, ytrue)\n",
    "            val_wrmsse = wrmsse_metric(ypreds, ytrue, roll_mat_csr=roll_mat_csr, sw=sw)\n",
    "            \n",
    "            if val_zc is None:\n",
    "                val_zc = zero_percentage(ytrue) \n",
    "            zc = zero_percentage(ypreds)\n",
    "            \n",
    "            print(f\"[Valid] Epoch: {epoch} | Loss: {val_loss:.4f} | RMSE: {rrmse:.4f} | zc: ({zc:.3f}/{val_zc:.3f}) | wrmsse: {val_wrmsse:.4f}\")"
   ]
  },
  {
   "cell_type": "code",
   "execution_count": null,
   "metadata": {},
   "outputs": [],
   "source": [
    "ypreds = load('/home/timetraveller/Work/M5Models/whatever.tmp')\n",
    "ypreds = np.array(ypreds).reshape(NUM_ITEMS, -1)\n",
    "print(ypreds.shape)"
   ]
  },
  {
   "cell_type": "code",
   "execution_count": null,
   "metadata": {},
   "outputs": [],
   "source": [
    "submission_df = pd.read_csv(\"/home/timetraveller/Desktop/kek.csv\")\n",
    "submission_df.iloc[:NUM_ITEMS, 1:] = ypreds"
   ]
  },
  {
   "cell_type": "code",
   "execution_count": null,
   "metadata": {},
   "outputs": [],
   "source": [
    "submission_df.to_csv(\"/home/timetraveller/Desktop/tch.csv\", index=False)"
   ]
  },
  {
   "cell_type": "markdown",
   "metadata": {},
   "source": [
    "# WRMSSE Analysis"
   ]
  },
  {
   "cell_type": "code",
   "execution_count": null,
   "metadata": {},
   "outputs": [],
   "source": [
    "from typing import Union\n",
    "df_train_full = pd.read_csv(\"../new_notebooks_phase2/sales_train_evaluation.csv\")\n",
    "df_train_full.shape"
   ]
  },
  {
   "cell_type": "code",
   "execution_count": null,
   "metadata": {
    "code_folding": [
     0
    ]
   },
   "outputs": [],
   "source": [
    "class WRMSSEEvaluator(object):\n",
    "\n",
    "    def __init__(self, train_df: pd.DataFrame, valid_df: pd.DataFrame, \n",
    "                 calendar: pd.DataFrame, prices: pd.DataFrame):\n",
    "        train_y = train_df.loc[:, train_df.columns.str.startswith('d_')]\n",
    "        train_target_columns = train_y.columns.tolist()\n",
    "        weight_columns = train_y.iloc[:, -28:].columns.tolist()\n",
    "\n",
    "        train_df['all_id'] = 'all'  # for lv1 aggregation\n",
    "\n",
    "        id_columns = train_df.loc[:, ~train_df.columns.str.startswith('d_')]\\\n",
    "                     .columns.tolist()\n",
    "        valid_target_columns = valid_df.loc[:, valid_df.columns.str.startswith('d_')]\\\n",
    "                               .columns.tolist()\n",
    "\n",
    "        if not all([c in valid_df.columns for c in id_columns]):\n",
    "            valid_df = pd.concat([train_df[id_columns], valid_df], \n",
    "                                 axis=1, sort=False)\n",
    "\n",
    "        self.train_df = train_df\n",
    "        self.valid_df = valid_df\n",
    "        self.calendar = calendar\n",
    "        self.prices = prices\n",
    "\n",
    "        self.weight_columns = weight_columns\n",
    "        self.id_columns = id_columns\n",
    "        self.valid_target_columns = valid_target_columns\n",
    "\n",
    "        weight_df = self.get_weight_df()\n",
    "\n",
    "        self.group_ids = (\n",
    "            'all_id',\n",
    "            'state_id',\n",
    "            'store_id',\n",
    "            'cat_id',\n",
    "            'dept_id',\n",
    "            ['state_id', 'cat_id'],\n",
    "            ['state_id', 'dept_id'],\n",
    "            ['store_id', 'cat_id'],\n",
    "            ['store_id', 'dept_id'],\n",
    "            'item_id',\n",
    "            ['item_id', 'state_id'],\n",
    "            ['item_id', 'store_id']\n",
    "        )\n",
    "\n",
    "        for i, group_id in enumerate(tqdm(self.group_ids)):\n",
    "            train_y = train_df.groupby(group_id)[train_target_columns].sum()\n",
    "            scale = []\n",
    "            for _, row in train_y.iterrows():\n",
    "                series = row.values[np.argmax(row.values != 0):]\n",
    "                scale.append(((series[1:] - series[:-1]) ** 2).mean())\n",
    "            setattr(self, f'lv{i + 1}_scale', np.array(scale))\n",
    "            setattr(self, f'lv{i + 1}_train_df', train_y)\n",
    "            setattr(self, f'lv{i + 1}_valid_df', valid_df.groupby(group_id)\\\n",
    "                    [valid_target_columns].sum())\n",
    "\n",
    "            lv_weight = weight_df.groupby(group_id)[weight_columns].sum().sum(axis=1)\n",
    "            setattr(self, f'lv{i + 1}_weight', lv_weight / lv_weight.sum())\n",
    "\n",
    "    def get_weight_df(self) -> pd.DataFrame:\n",
    "        day_to_week = self.calendar.set_index('d')['wm_yr_wk'].to_dict()\n",
    "        weight_df = self.train_df[['item_id', 'store_id'] + self.weight_columns]\\\n",
    "                    .set_index(['item_id', 'store_id'])\n",
    "        weight_df = weight_df.stack().reset_index()\\\n",
    "                   .rename(columns={'level_2': 'd', 0: 'value'})\n",
    "        weight_df['wm_yr_wk'] = weight_df['d'].map(day_to_week)\n",
    "\n",
    "        weight_df = weight_df.merge(self.prices, how='left',\n",
    "                                    on=['item_id', 'store_id', 'wm_yr_wk'])\n",
    "        weight_df['value'] = weight_df['value'] * weight_df['sell_price']\n",
    "        weight_df = weight_df.set_index(['item_id', 'store_id', 'd'])\\\n",
    "                    .unstack(level=2)['value']\\\n",
    "                    .loc[zip(self.train_df.item_id, self.train_df.store_id), :]\\\n",
    "                    .reset_index(drop=True)\n",
    "        weight_df = pd.concat([self.train_df[self.id_columns],\n",
    "                               weight_df], axis=1, sort=False)\n",
    "        return weight_df\n",
    "\n",
    "    def rmsse(self, valid_preds: pd.DataFrame, lv: int) -> pd.Series:\n",
    "        valid_y = getattr(self, f'lv{lv}_valid_df')\n",
    "        score = ((valid_y - valid_preds) ** 2).mean(axis=1)\n",
    "        scale = getattr(self, f'lv{lv}_scale')\n",
    "        return (score / scale).map(np.sqrt) \n",
    "\n",
    "    def score(self, valid_preds: Union[pd.DataFrame, \n",
    "                                       np.ndarray]) -> float:\n",
    "        assert self.valid_df[self.valid_target_columns].shape \\\n",
    "               == valid_preds.shape\n",
    "\n",
    "        if isinstance(valid_preds, np.ndarray):\n",
    "            valid_preds = pd.DataFrame(valid_preds, \n",
    "                                       columns=self.valid_target_columns)\n",
    "\n",
    "        valid_preds = pd.concat([self.valid_df[self.id_columns], \n",
    "                                 valid_preds], axis=1, sort=False)\n",
    "\n",
    "        all_scores = []\n",
    "        for i, group_id in enumerate(self.group_ids):\n",
    "\n",
    "            valid_preds_grp = valid_preds.groupby(group_id)[self.valid_target_columns].sum()\n",
    "            setattr(self, f'lv{i + 1}_valid_preds', valid_preds_grp)\n",
    "            \n",
    "            lv_scores = self.rmsse(valid_preds_grp, i + 1)\n",
    "            setattr(self, f'lv{i + 1}_scores', lv_scores)\n",
    "            \n",
    "            weight = getattr(self, f'lv{i + 1}_weight')\n",
    "            lv_scores = pd.concat([weight, lv_scores], axis=1, \n",
    "                                  sort=False).prod(axis=1)\n",
    "            \n",
    "            all_scores.append(lv_scores.sum())\n",
    "            \n",
    "        self.all_scores = all_scores\n",
    "\n",
    "        return np.mean(all_scores)"
   ]
  },
  {
   "cell_type": "code",
   "execution_count": null,
   "metadata": {},
   "outputs": [],
   "source": [
    "DATA_DIR = \"../data/\"\n",
    "d_dtypes = {}\n",
    "for i in range(1914):\n",
    "    d_dtypes[f'd_{i}'] = np.int32\n",
    "    \n",
    "sales = pd.read_csv(DATA_DIR + 'sales_train_validation.csv',\n",
    "                    dtype=d_dtypes)\n",
    "\n",
    "# changing wide format to long format for model training\n",
    "d = ['d_' + str(i) for i in range(1802,1914)]\n",
    "sales_mlt = pd.melt(sales, id_vars=['item_id','dept_id','cat_id','store_id',\n",
    "                                    'state_id'], value_vars=d)\n",
    "sales_mlt = sales_mlt.rename(columns={'variable':'d', 'value':'sales'})\n",
    "\n",
    "\n",
    "\n",
    "calendar = pd.read_csv(DATA_DIR + 'calendar.csv',\n",
    "                       dtype={'wm_yr_wk': np.int32, 'wday': np.int32, \n",
    "                              'month': np.int32, 'year': np.int32, \n",
    "                              'snap_CA': np.int32, 'snap_TX': np.int32,\n",
    "                              'snap_WI': np.int32})\n",
    "\n",
    "# subsetting calender by traning period\n",
    "calendar = calendar.loc[calendar.d.apply(lambda x: int(x[2:])) \\\n",
    "                        >= int(sales_mlt.d[0][2:]), :]\n",
    "\n",
    "prices = pd.read_csv(DATA_DIR + 'sell_prices.csv',\n",
    "                          dtype={'wm_yr_wk': np.int32, \n",
    "                                 'sell_price': np.float32})\n",
    "prices = prices.loc[prices.wm_yr_wk >= calendar.wm_yr_wk.values[0], :]"
   ]
  },
  {
   "cell_type": "code",
   "execution_count": null,
   "metadata": {},
   "outputs": [],
   "source": [
    "df_calendar = pd.read_csv(\"../data/calendar.csv\")\n",
    "df_prices = pd.read_csv(\"../data/sell_prices.csv\")\n",
    "df_sample_submission = pd.read_csv(\"../data/sample_submission.csv\")\n",
    "df_sample_submission[\"order\"] = range(df_sample_submission.shape[0])\n",
    "\n",
    "df_train = df_train_full.iloc[:, :-28]\n",
    "df_valid = df_train_full.iloc[:, -28:]\n",
    "\n",
    "evaluator = WRMSSEEvaluator(df_train, df_valid, df_calendar, df_prices)"
   ]
  },
  {
   "cell_type": "code",
   "execution_count": null,
   "metadata": {},
   "outputs": [],
   "source": [
    "sub_f = \"/home/timetraveller/Desktop/tch.csv\"\n",
    "preds_valid = pd.read_csv(sub_f)\n",
    "nums = preds_valid.iloc[:30490, 1:]\n",
    "print((nums < 1).mean().values)\n",
    "print((nums < 1).mean().values.mean())\n",
    "nums = evaluator.valid_df[evaluator.valid_target_columns]\n",
    "print(\"\\n\", (nums < 1).mean().values)\n",
    "print((nums < 1).mean().values.mean())"
   ]
  },
  {
   "cell_type": "code",
   "execution_count": null,
   "metadata": {},
   "outputs": [],
   "source": [
    "preds_valid = pd.read_csv(sub_f)\n",
    "preds_valid = preds_valid[preds_valid.id.str.contains(\"validation\")]\n",
    "preds_valid = preds_valid.merge(df_sample_submission[[\"id\", \"order\"]], on = \"id\").sort_values(\"order\").drop([\"id\", \"order\"], axis = 1).reset_index(drop = True)\n",
    "preds_valid.rename(columns = {\n",
    "    \"F1\": \"d_1914\", \"F2\": \"d_1915\", \"F3\": \"d_1916\", \"F4\": \"d_1917\", \"F5\": \"d_1918\", \"F6\": \"d_1919\", \"F7\": \"d_1920\",\n",
    "    \"F8\": \"d_1921\", \"F9\": \"d_1922\", \"F10\": \"d_1923\", \"F11\": \"d_1924\", \"F12\": \"d_1925\", \"F13\": \"d_1926\", \"F14\": \"d_1927\",\n",
    "    \"F15\": \"d_1928\", \"F16\": \"d_1929\", \"F17\": \"d_1930\", \"F18\": \"d_1931\", \"F19\": \"d_1932\", \"F20\": \"d_1933\", \"F21\": \"d_1934\",\n",
    "    \"F22\": \"d_1935\", \"F23\": \"d_1936\", \"F24\": \"d_1937\", \"F25\": \"d_1938\", \"F26\": \"d_1939\", \"F27\": \"d_1940\", \"F28\": \"d_1941\"\n",
    "}, inplace = True)\n",
    "score = evaluator.score(preds_valid)\n",
    "print(score)"
   ]
  },
  {
   "cell_type": "markdown",
   "metadata": {},
   "source": [
    "## Visualize"
   ]
  },
  {
   "cell_type": "code",
   "execution_count": null,
   "metadata": {},
   "outputs": [],
   "source": [
    "import seaborn as sns\n",
    "import matplotlib.pyplot as plt"
   ]
  },
  {
   "cell_type": "code",
   "execution_count": null,
   "metadata": {},
   "outputs": [],
   "source": [
    "def create_viz_df(df,lv):\n",
    "    \n",
    "    df = df.T.reset_index()\n",
    "    if lv in [6,7,8,9,11,12]:\n",
    "        df.columns = [i[0] + '_' + i[1] if i != ('index','') \\\n",
    "                      else i[0] for i in df.columns]\n",
    "    df = df.merge(calendar.loc[:, ['d','date']], how='left', \n",
    "                  left_on='index', right_on='d')\n",
    "    df['date'] = pd.to_datetime(df.date)\n",
    "    df = df.set_index('date')\n",
    "    df = df.drop(['index', 'd'], axis=1)\n",
    "    \n",
    "    return df\n",
    "\n",
    "def create_dashboard(evaluator):\n",
    "    \n",
    "    wrmsses = [np.mean(evaluator.all_scores)] + evaluator.all_scores\n",
    "    labels = ['Overall'] + [f'Level {i}' for i in range(1, 13)]\n",
    "\n",
    "    ## WRMSSE by Level\n",
    "    plt.figure(figsize=(12,5))\n",
    "    ax = sns.barplot(x=labels, y=wrmsses)\n",
    "    ax.set(xlabel='', ylabel='WRMSSE')\n",
    "    plt.title('WRMSSE by Level', fontsize=20, fontweight='bold')\n",
    "    for index, val in enumerate(wrmsses):\n",
    "        ax.text(index*1, val+.01, round(val,4), color='black', \n",
    "                ha=\"center\")\n",
    "        \n",
    "    # configuration array for the charts\n",
    "    n_rows = [1, 1, 4, 1, 3, 3, 3, 3, 3, 3, 3, 3]\n",
    "    n_cols = [1, 3, 3, 3, 3, 3, 3, 3, 3, 3, 3, 3]\n",
    "    width = [7, 14, 14, 14, 14, 14, 14, 14, 14, 14, 14, 14]\n",
    "    height = [4, 3, 12, 3, 9, 9, 9, 9, 9, 9, 9, 9]\n",
    "    \n",
    "    for i in range(1,13):\n",
    "        \n",
    "        scores = getattr(evaluator, f'lv{i}_scores')\n",
    "        weights = getattr(evaluator, f'lv{i}_weight')\n",
    "        \n",
    "        if i > 1 and i < 9:\n",
    "            if i < 7:\n",
    "                fig, axs = plt.subplots(1, 2, figsize=(12, 3))\n",
    "            else:\n",
    "                fig, axs = plt.subplots(2, 1, figsize=(12, 8))\n",
    "                \n",
    "            ## RMSSE plot\n",
    "            scores.plot.bar(width=.8, ax=axs[0], color='g')\n",
    "            axs[0].set_title(f\"RMSSE\", size=14)\n",
    "            axs[0].set(xlabel='', ylabel='RMSSE')\n",
    "            if i >= 4:\n",
    "                axs[0].tick_params(labelsize=8)\n",
    "            for index, val in enumerate(scores):\n",
    "                axs[0].text(index*1, val+.01, round(val,4), color='black', \n",
    "                            ha=\"center\", fontsize=10 if i == 2 else 8)\n",
    "            \n",
    "            ## Weight plot\n",
    "            weights.plot.bar(width=.8, ax=axs[1])\n",
    "            axs[1].set_title(f\"Weight\", size=14)\n",
    "            axs[1].set(xlabel='', ylabel='Weight')\n",
    "            if i >= 4:\n",
    "                axs[1].tick_params(labelsize=8)\n",
    "            for index, val in enumerate(weights):\n",
    "                axs[1].text(index*1, val+.01, round(val,2), color='black', \n",
    "                            ha=\"center\", fontsize=10 if i == 2 else 8)\n",
    "                    \n",
    "            fig.suptitle(f'Level {i}: {evaluator.group_ids[i-1]}', size=24 ,\n",
    "                         y=1.1, fontweight='bold')\n",
    "            plt.tight_layout()\n",
    "            plt.show()\n",
    "\n",
    "        trn = create_viz_df(getattr(evaluator, f'lv{i}_train_df')\\\n",
    "                            .iloc[:, -28*3:], i)\n",
    "        val = create_viz_df(getattr(evaluator, f'lv{i}_valid_df'), i)\n",
    "        pred = create_viz_df(getattr(evaluator, f'lv{i}_valid_preds'), i)\n",
    "\n",
    "        n_cate = trn.shape[1] if i < 7 else 9\n",
    "\n",
    "        fig, axs = plt.subplots(n_rows[i-1], n_cols[i-1], \n",
    "                                figsize=(width[i-1],height[i-1]))\n",
    "        if i > 1:\n",
    "            axs = axs.flatten()\n",
    "\n",
    "        ## Time series plot\n",
    "        for k in range(0, n_cate):\n",
    "\n",
    "            ax = axs[k] if i > 1 else axs\n",
    "\n",
    "            trn.iloc[:, k].plot(ax=ax, label='train')\n",
    "            val.iloc[:, k].plot(ax=ax, label='valid')\n",
    "            pred.iloc[:, k].plot(ax=ax, label='pred')\n",
    "            ax.set_title(f\"{trn.columns[k]}  RMSSE:{scores[k]:.4f}\", size=14)\n",
    "            ax.set(xlabel='', ylabel='sales')\n",
    "            ax.tick_params(labelsize=8)\n",
    "            ax.legend(loc='upper left', prop={'size': 10})\n",
    "\n",
    "        if i == 1 or i >= 9:\n",
    "            fig.suptitle(f'Level {i}: {evaluator.group_ids[i-1]}', size=24 , \n",
    "                         y=1.1, fontweight='bold')\n",
    "        plt.tight_layout()\n",
    "        plt.show()"
   ]
  },
  {
   "cell_type": "code",
   "execution_count": null,
   "metadata": {
    "scrolled": true
   },
   "outputs": [],
   "source": [
    "create_dashboard(evaluator)"
   ]
  },
  {
   "cell_type": "code",
   "execution_count": null,
   "metadata": {},
   "outputs": [],
   "source": []
  }
 ],
 "metadata": {
  "kernelspec": {
   "display_name": "Python 3",
   "language": "python",
   "name": "python3"
  },
  "language_info": {
   "codemirror_mode": {
    "name": "ipython",
    "version": 3
   },
   "file_extension": ".py",
   "mimetype": "text/x-python",
   "name": "python",
   "nbconvert_exporter": "python",
   "pygments_lexer": "ipython3",
   "version": "3.7.3"
  }
 },
 "nbformat": 4,
 "nbformat_minor": 2
}
